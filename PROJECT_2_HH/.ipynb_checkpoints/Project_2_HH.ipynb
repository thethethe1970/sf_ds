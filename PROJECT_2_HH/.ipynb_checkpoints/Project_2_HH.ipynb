{
  "cells": [
    {
      "cell_type": "markdown",
      "id": "42289889-bd57-434e-9637-d3e354756316",
      "metadata": {
        "id": "42289889-bd57-434e-9637-d3e354756316"
      },
      "source": [
        "<center> <img src = https://raw.githubusercontent.com/AndreyRysistov/DatasetsForPandas/main/hh%20label.jpg alt=\"drawing\" style=\"width:400px;\">"
      ]
    },
    {
      "cell_type": "markdown",
      "id": "829cb75b-f14e-4ba8-9195-7ba929a7d656",
      "metadata": {
        "id": "829cb75b-f14e-4ba8-9195-7ba929a7d656",
        "tags": []
      },
      "source": [
        "# <center> Проект: Анализ вакансий из HeadHunter\n",
        "   "
      ]
    },
    {
      "cell_type": "code",
      "execution_count": 804,
      "id": "dccfde33-2452-43fb-a8a5-5c6ebc02a71d",
      "metadata": {
        "id": "dccfde33-2452-43fb-a8a5-5c6ebc02a71d"
      },
      "outputs": [],
      "source": [
        "import pandas as pd\n",
        "import psycopg2"
      ]
    },
    {
      "cell_type": "code",
      "execution_count": 806,
      "id": "G4X_q8KBf7SF",
      "metadata": {
        "id": "G4X_q8KBf7SF"
      },
      "outputs": [],
      "source": [
        "connection = psycopg2.connect(\n",
        "    dbname=DBNAME,\n",
        "    user=USER,\n",
        "    host=HOST,\n",
        "    password=PASSWORD,\n",
        "    port=PORT\n",
        ")"
      ]
    },
    {
      "cell_type": "markdown",
      "id": "0dc6476b-7a00-44f1-ac93-6e3baed33a29",
      "metadata": {
        "id": "0dc6476b-7a00-44f1-ac93-6e3baed33a29"
      },
      "source": [
        "# Юнит 3. Предварительный анализ данных"
      ]
    },
    {
      "cell_type": "markdown",
      "id": "889782b6-8d1c-410e-8920-e57f27917c64",
      "metadata": {
        "id": "889782b6-8d1c-410e-8920-e57f27917c64"
      },
      "source": [
        "1. Напишите запрос, который посчитает количество вакансий в нашей базе (вакансии находятся в таблице vacancies). "
      ]
    },
    {
      "cell_type": "code",
      "execution_count": 807,
      "id": "bc39e68e-ed02-4ee2-9235-7258a2f867a8",
      "metadata": {
        "id": "bc39e68e-ed02-4ee2-9235-7258a2f867a8"
      },
      "outputs": [],
      "source": [
        "# текст запроса\n",
        "query_3_1 = f'''\n",
        "-- SQL-запрос для подсчета общего количества вакансий в таблице VACANCIES\n",
        "SELECT COUNT(*) -- Функция COUNT(*) используется для подсчета всех строк в таблице\n",
        "FROM VACANCIES -- Указываем таблицу VACANCIES как источник данных для подсчета\n",
        "'''"
      ]
    },
    {
      "cell_type": "code",
      "execution_count": 808,
      "id": "7mAwtsk4hEHY",
      "metadata": {
        "id": "7mAwtsk4hEHY"
      },
      "outputs": [
        {
          "name": "stderr",
          "output_type": "stream",
          "text": [
            "C:\\Users\\Администратор\\AppData\\Local\\Temp\\ipykernel_16976\\27632880.py:3: UserWarning: pandas only supports SQLAlchemy connectable (engine/connection) or database string URI or sqlite3 DBAPI2 connection. Other DBAPI2 objects are not tested. Please consider using SQLAlchemy.\n",
            "  df = pd.read_sql_query(query_3_1, connection)\n"
          ]
        },
        {
          "data": {
            "text/html": [
              "<div>\n",
              "<style scoped>\n",
              "    .dataframe tbody tr th:only-of-type {\n",
              "        vertical-align: middle;\n",
              "    }\n",
              "\n",
              "    .dataframe tbody tr th {\n",
              "        vertical-align: top;\n",
              "    }\n",
              "\n",
              "    .dataframe thead th {\n",
              "        text-align: right;\n",
              "    }\n",
              "</style>\n",
              "<table border=\"1\" class=\"dataframe\">\n",
              "  <thead>\n",
              "    <tr style=\"text-align: right;\">\n",
              "      <th></th>\n",
              "      <th>count</th>\n",
              "    </tr>\n",
              "  </thead>\n",
              "  <tbody>\n",
              "    <tr>\n",
              "      <th>0</th>\n",
              "      <td>49197</td>\n",
              "    </tr>\n",
              "  </tbody>\n",
              "</table>\n",
              "</div>"
            ],
            "text/plain": [
              "   count\n",
              "0  49197"
            ]
          },
          "execution_count": 808,
          "metadata": {},
          "output_type": "execute_result"
        }
      ],
      "source": [
        "# результат запроса\n",
        "# Используем метод read_sql_query для выполнения запроса и загрузки результатов в DataFrame\n",
        "df = pd.read_sql_query(query_3_1, connection)\n",
        "df"
      ]
    },
    {
      "cell_type": "markdown",
      "id": "b583485d-1f9e-494e-ada4-80ffff7c53d6",
      "metadata": {
        "id": "b583485d-1f9e-494e-ada4-80ffff7c53d6"
      },
      "source": [
        "2. Напишите запрос, который посчитает количество работодателей (таблица employers). "
      ]
    },
    {
      "cell_type": "code",
      "execution_count": 809,
      "id": "5408c52c-3407-4a63-b25b-1aafa2322d28",
      "metadata": {
        "id": "5408c52c-3407-4a63-b25b-1aafa2322d28"
      },
      "outputs": [],
      "source": [
        "# текст запроса\n",
        "query_3_2 = f'''\n",
        "-- SQL-запрос для подсчета общего количества работодателей в таблице EMPLOYERS\n",
        "SELECT COUNT(*) -- Функция COUNT(*) используется для подсчета всех строк в таблице\n",
        "FROM EMPLOYERS -- Указываем таблицу EMPLOYERS как источник данных для подсчета\n",
        "'''"
      ]
    },
    {
      "cell_type": "code",
      "execution_count": 810,
      "id": "jVL4eshKhdqc",
      "metadata": {
        "id": "jVL4eshKhdqc"
      },
      "outputs": [
        {
          "name": "stderr",
          "output_type": "stream",
          "text": [
            "C:\\Users\\Администратор\\AppData\\Local\\Temp\\ipykernel_16976\\514594893.py:3: UserWarning: pandas only supports SQLAlchemy connectable (engine/connection) or database string URI or sqlite3 DBAPI2 connection. Other DBAPI2 objects are not tested. Please consider using SQLAlchemy.\n",
            "  df = pd.read_sql_query(query_3_2, connection)\n"
          ]
        },
        {
          "data": {
            "text/html": [
              "<div>\n",
              "<style scoped>\n",
              "    .dataframe tbody tr th:only-of-type {\n",
              "        vertical-align: middle;\n",
              "    }\n",
              "\n",
              "    .dataframe tbody tr th {\n",
              "        vertical-align: top;\n",
              "    }\n",
              "\n",
              "    .dataframe thead th {\n",
              "        text-align: right;\n",
              "    }\n",
              "</style>\n",
              "<table border=\"1\" class=\"dataframe\">\n",
              "  <thead>\n",
              "    <tr style=\"text-align: right;\">\n",
              "      <th></th>\n",
              "      <th>count</th>\n",
              "    </tr>\n",
              "  </thead>\n",
              "  <tbody>\n",
              "    <tr>\n",
              "      <th>0</th>\n",
              "      <td>23501</td>\n",
              "    </tr>\n",
              "  </tbody>\n",
              "</table>\n",
              "</div>"
            ],
            "text/plain": [
              "   count\n",
              "0  23501"
            ]
          },
          "execution_count": 810,
          "metadata": {},
          "output_type": "execute_result"
        }
      ],
      "source": [
        "# результат запроса\n",
        "# Используем метод read_sql_query для выполнения запроса и загрузки результатов в DataFrame\n",
        "df = pd.read_sql_query(query_3_2, connection)\n",
        "df"
      ]
    },
    {
      "cell_type": "markdown",
      "id": "a2bfff1f-c975-4bf6-84be-2185d79dcb76",
      "metadata": {
        "id": "a2bfff1f-c975-4bf6-84be-2185d79dcb76"
      },
      "source": [
        "3. Посчитате с помощью запроса количество регионов (таблица areas)."
      ]
    },
    {
      "cell_type": "code",
      "execution_count": 811,
      "id": "1m8QJwBYhey6",
      "metadata": {
        "id": "1m8QJwBYhey6"
      },
      "outputs": [],
      "source": [
        "# текст запроса\n",
        "query_3_3 = f'''\n",
        "-- SQL-запрос для подсчета общего количества регионов в таблице AREAS\n",
        "SELECT COUNT(*) -- Функция COUNT(*) используется для подсчета всех строк в таблице\n",
        "FROM AREAS -- Указываем таблицу AREAS как источник данных для подсчета\n",
        "'''"
      ]
    },
    {
      "cell_type": "code",
      "execution_count": 812,
      "id": "EZsn9tlfhe7f",
      "metadata": {
        "id": "EZsn9tlfhe7f"
      },
      "outputs": [
        {
          "name": "stderr",
          "output_type": "stream",
          "text": [
            "C:\\Users\\Администратор\\AppData\\Local\\Temp\\ipykernel_16976\\3549418322.py:3: UserWarning: pandas only supports SQLAlchemy connectable (engine/connection) or database string URI or sqlite3 DBAPI2 connection. Other DBAPI2 objects are not tested. Please consider using SQLAlchemy.\n",
            "  df = pd.read_sql_query(query_3_3, connection)\n"
          ]
        },
        {
          "data": {
            "text/html": [
              "<div>\n",
              "<style scoped>\n",
              "    .dataframe tbody tr th:only-of-type {\n",
              "        vertical-align: middle;\n",
              "    }\n",
              "\n",
              "    .dataframe tbody tr th {\n",
              "        vertical-align: top;\n",
              "    }\n",
              "\n",
              "    .dataframe thead th {\n",
              "        text-align: right;\n",
              "    }\n",
              "</style>\n",
              "<table border=\"1\" class=\"dataframe\">\n",
              "  <thead>\n",
              "    <tr style=\"text-align: right;\">\n",
              "      <th></th>\n",
              "      <th>count</th>\n",
              "    </tr>\n",
              "  </thead>\n",
              "  <tbody>\n",
              "    <tr>\n",
              "      <th>0</th>\n",
              "      <td>1362</td>\n",
              "    </tr>\n",
              "  </tbody>\n",
              "</table>\n",
              "</div>"
            ],
            "text/plain": [
              "   count\n",
              "0   1362"
            ]
          },
          "execution_count": 812,
          "metadata": {},
          "output_type": "execute_result"
        }
      ],
      "source": [
        "# результат запроса\n",
        "# Используем метод read_sql_query для выполнения запроса и загрузки результатов в DataFrame\n",
        "df = pd.read_sql_query(query_3_3, connection)\n",
        "df"
      ]
    },
    {
      "cell_type": "markdown",
      "id": "41bb59f3-53cc-4a67-a5bc-bedf573955e4",
      "metadata": {
        "id": "41bb59f3-53cc-4a67-a5bc-bedf573955e4"
      },
      "source": [
        "4. Посчитате с помощью запроса количество сфер деятельности в базе (таблица industries)."
      ]
    },
    {
      "cell_type": "code",
      "execution_count": 813,
      "id": "d286cf4c-707b-4cd2-9190-7ab3587d04a1",
      "metadata": {
        "id": "d286cf4c-707b-4cd2-9190-7ab3587d04a1"
      },
      "outputs": [],
      "source": [
        "# текст запроса\n",
        "query_3_4 = f'''\n",
        "-- SQL-запрос для подсчета общего количества сфер деятельности в таблице INDUSTRIES\n",
        "SELECT COUNT(*) -- Функция COUNT(*) используется для подсчета всех строк в таблице\n",
        "FROM INDUSTRIES -- Указываем таблицу INDUSTRIES как источник данных для подсчета\n",
        "'''"
      ]
    },
    {
      "cell_type": "code",
      "execution_count": 814,
      "id": "JYAaoZ4qhfzW",
      "metadata": {
        "id": "JYAaoZ4qhfzW"
      },
      "outputs": [
        {
          "name": "stderr",
          "output_type": "stream",
          "text": [
            "C:\\Users\\Администратор\\AppData\\Local\\Temp\\ipykernel_16976\\3911149886.py:3: UserWarning: pandas only supports SQLAlchemy connectable (engine/connection) or database string URI or sqlite3 DBAPI2 connection. Other DBAPI2 objects are not tested. Please consider using SQLAlchemy.\n",
            "  df = pd.read_sql_query(query_3_4, connection)\n"
          ]
        },
        {
          "data": {
            "text/html": [
              "<div>\n",
              "<style scoped>\n",
              "    .dataframe tbody tr th:only-of-type {\n",
              "        vertical-align: middle;\n",
              "    }\n",
              "\n",
              "    .dataframe tbody tr th {\n",
              "        vertical-align: top;\n",
              "    }\n",
              "\n",
              "    .dataframe thead th {\n",
              "        text-align: right;\n",
              "    }\n",
              "</style>\n",
              "<table border=\"1\" class=\"dataframe\">\n",
              "  <thead>\n",
              "    <tr style=\"text-align: right;\">\n",
              "      <th></th>\n",
              "      <th>count</th>\n",
              "    </tr>\n",
              "  </thead>\n",
              "  <tbody>\n",
              "    <tr>\n",
              "      <th>0</th>\n",
              "      <td>294</td>\n",
              "    </tr>\n",
              "  </tbody>\n",
              "</table>\n",
              "</div>"
            ],
            "text/plain": [
              "   count\n",
              "0    294"
            ]
          },
          "execution_count": 814,
          "metadata": {},
          "output_type": "execute_result"
        }
      ],
      "source": [
        "# результат запроса\n",
        "# Используем метод read_sql_query для выполнения запроса и загрузки результатов в DataFrame\n",
        "df = pd.read_sql_query(query_3_4, connection)\n",
        "df"
      ]
    },
    {
      "cell_type": "markdown",
      "id": "9a8a2181-6914-448b-85f1-38f5f18b8a93",
      "metadata": {
        "id": "9a8a2181-6914-448b-85f1-38f5f18b8a93"
      },
      "source": [
        "***"
      ]
    },
    {
      "cell_type": "markdown",
      "id": "0402076b",
      "metadata": {},
      "source": [
        "**Выводы по предварительному анализу данных**:  \n",
        "\n",
        "1. Библиотеки pandas и psycopg2 были успешно импортированы, что позволило провести анализ данных и работать с базой данных PostgreSQL соответственно.  \n",
        "\n",
        "2. Соединение с базой данных было установлено с использованием заданных параметров, что позволило выполнить SQL-запросы и извлечь данные.  \n",
        "\n",
        "3. Были правильно написаны и успешно выполнены SQL-запросы, что позволило извлечь необходимые количественные данные из таблиц.  \n",
        "\n",
        "4. Результаты SQL-запросов:\n",
        "   - в таблице VACANCIES содержится **49 197 вакансий**;\n",
        "   - в таблице EMPLOYERS зарегистрировано **23 501 работодателей**;\n",
        "   - в таблице AREAS представлено **1 362 регионов**;\n",
        "   - в таблице INDUSTRIES насчитывается **294 сферы деятельности**.\n",
        "\n",
        "Эти данные могут быть использованы для дальнейшего анализа рынка труда, изучения распределения вакансий по регионам и сферам деятельности, а также для оценки конкуренции среди работодателей. Также, эти результаты могут служить основой для более глубокого анализа, например, для изучения динамики рынка труда или для создания моделей прогнозирования вакансий.\n"
      ]
    },
    {
      "cell_type": "markdown",
      "id": "8d62a9f3-f64e-4fe7-bdac-c4dffa16155e",
      "metadata": {
        "id": "8d62a9f3-f64e-4fe7-bdac-c4dffa16155e"
      },
      "source": [
        "# Юнит 4. Детальный анализ вакансий"
      ]
    },
    {
      "cell_type": "markdown",
      "id": "93053d3d-b284-481a-9cf7-012d7014c0e0",
      "metadata": {
        "id": "93053d3d-b284-481a-9cf7-012d7014c0e0"
      },
      "source": [
        "1. Напишите запрос, который позволит узнать, сколько (cnt) вакансий в каждом регионе (area).\n",
        "Отсортируйте по количеству вакансий в порядке убывания."
      ]
    },
    {
      "cell_type": "code",
      "execution_count": 815,
      "id": "3f069da6-fdc9-4ae7-b514-fafe2675efd3",
      "metadata": {
        "id": "3f069da6-fdc9-4ae7-b514-fafe2675efd3"
      },
      "outputs": [],
      "source": [
        "# текст запроса\n",
        "# для выбора пятёрки лидеров по количеству вакансий используем LIMIT 5\n",
        "query_4_1 = f'''\n",
        "-- Выбираем название региона и количество вакансий\n",
        "SELECT \n",
        "    a.name AS region_name, -- Алиас для названия региона\n",
        "    COUNT(v.id) AS vacancies_count -- Алиас для количества вакансий\n",
        "FROM AREAS a -- Источник данных для регионов\n",
        "JOIN VACANCIES v ON a.id = v.area_id -- Соединение таблицы вакансий по ID региона\n",
        "GROUP BY a.id -- Группировка результатов по ID региона\n",
        "ORDER BY vacancies_count DESC -- Сортировка результатов по убыванию количества вакансий\n",
        "LIMIT 5 -- Ограничиваем результат до пяти регионов с наибольшим количеством вакансий\n",
        "'''"
      ]
    },
    {
      "cell_type": "code",
      "execution_count": 816,
      "id": "P7QL86hrjhRJ",
      "metadata": {
        "id": "P7QL86hrjhRJ"
      },
      "outputs": [
        {
          "name": "stderr",
          "output_type": "stream",
          "text": [
            "C:\\Users\\Администратор\\AppData\\Local\\Temp\\ipykernel_16976\\2665294580.py:3: UserWarning: pandas only supports SQLAlchemy connectable (engine/connection) or database string URI or sqlite3 DBAPI2 connection. Other DBAPI2 objects are not tested. Please consider using SQLAlchemy.\n",
            "  df = pd.read_sql_query(query_4_1, connection)\n"
          ]
        },
        {
          "data": {
            "text/html": [
              "<div>\n",
              "<style scoped>\n",
              "    .dataframe tbody tr th:only-of-type {\n",
              "        vertical-align: middle;\n",
              "    }\n",
              "\n",
              "    .dataframe tbody tr th {\n",
              "        vertical-align: top;\n",
              "    }\n",
              "\n",
              "    .dataframe thead th {\n",
              "        text-align: right;\n",
              "    }\n",
              "</style>\n",
              "<table border=\"1\" class=\"dataframe\">\n",
              "  <thead>\n",
              "    <tr style=\"text-align: right;\">\n",
              "      <th></th>\n",
              "      <th>region_name</th>\n",
              "      <th>vacancies_count</th>\n",
              "    </tr>\n",
              "  </thead>\n",
              "  <tbody>\n",
              "    <tr>\n",
              "      <th>0</th>\n",
              "      <td>Москва</td>\n",
              "      <td>5333</td>\n",
              "    </tr>\n",
              "    <tr>\n",
              "      <th>1</th>\n",
              "      <td>Санкт-Петербург</td>\n",
              "      <td>2851</td>\n",
              "    </tr>\n",
              "    <tr>\n",
              "      <th>2</th>\n",
              "      <td>Минск</td>\n",
              "      <td>2112</td>\n",
              "    </tr>\n",
              "    <tr>\n",
              "      <th>3</th>\n",
              "      <td>Новосибирск</td>\n",
              "      <td>2006</td>\n",
              "    </tr>\n",
              "    <tr>\n",
              "      <th>4</th>\n",
              "      <td>Алматы</td>\n",
              "      <td>1892</td>\n",
              "    </tr>\n",
              "  </tbody>\n",
              "</table>\n",
              "</div>"
            ],
            "text/plain": [
              "       region_name  vacancies_count\n",
              "0           Москва             5333\n",
              "1  Санкт-Петербург             2851\n",
              "2            Минск             2112\n",
              "3      Новосибирск             2006\n",
              "4           Алматы             1892"
            ]
          },
          "execution_count": 816,
          "metadata": {},
          "output_type": "execute_result"
        }
      ],
      "source": [
        "# результат запроса\n",
        "# Используем метод read_sql_query для выполнения запроса и загрузки результатов в DataFrame\n",
        "df = pd.read_sql_query(query_4_1, connection)\n",
        "df"
      ]
    },
    {
      "cell_type": "markdown",
      "id": "4266f0b6-1646-492a-88b4-2f6a46502135",
      "metadata": {
        "id": "4266f0b6-1646-492a-88b4-2f6a46502135"
      },
      "source": [
        "2. Напишите запрос, чтобы определить у какого количества вакансий заполнено хотя бы одно из двух полей с зарплатой."
      ]
    },
    {
      "cell_type": "code",
      "execution_count": 817,
      "id": "0c44b350-72eb-4d65-8b54-a1fc449ba9fd",
      "metadata": {
        "id": "0c44b350-72eb-4d65-8b54-a1fc449ba9fd"
      },
      "outputs": [],
      "source": [
        "# текст запроса\n",
        "query_4_2 = f'''\n",
        "-- Выбираем общее количество записей\n",
        "SELECT COUNT(*)\n",
        "FROM VACANCIES -- Из таблицы вакансий\n",
        "WHERE salary_from IS NOT NULL -- Где указана минимальная зарплата\n",
        "   OR salary_to IS NOT NULL -- Или максимальная зарплата\n",
        "'''"
      ]
    },
    {
      "cell_type": "code",
      "execution_count": 818,
      "id": "rhvwaMDkoWTi",
      "metadata": {
        "id": "rhvwaMDkoWTi"
      },
      "outputs": [
        {
          "name": "stderr",
          "output_type": "stream",
          "text": [
            "C:\\Users\\Администратор\\AppData\\Local\\Temp\\ipykernel_16976\\3416227682.py:3: UserWarning: pandas only supports SQLAlchemy connectable (engine/connection) or database string URI or sqlite3 DBAPI2 connection. Other DBAPI2 objects are not tested. Please consider using SQLAlchemy.\n",
            "  df = pd.read_sql_query(query_4_2, connection)\n"
          ]
        },
        {
          "data": {
            "text/html": [
              "<div>\n",
              "<style scoped>\n",
              "    .dataframe tbody tr th:only-of-type {\n",
              "        vertical-align: middle;\n",
              "    }\n",
              "\n",
              "    .dataframe tbody tr th {\n",
              "        vertical-align: top;\n",
              "    }\n",
              "\n",
              "    .dataframe thead th {\n",
              "        text-align: right;\n",
              "    }\n",
              "</style>\n",
              "<table border=\"1\" class=\"dataframe\">\n",
              "  <thead>\n",
              "    <tr style=\"text-align: right;\">\n",
              "      <th></th>\n",
              "      <th>count</th>\n",
              "    </tr>\n",
              "  </thead>\n",
              "  <tbody>\n",
              "    <tr>\n",
              "      <th>0</th>\n",
              "      <td>24073</td>\n",
              "    </tr>\n",
              "  </tbody>\n",
              "</table>\n",
              "</div>"
            ],
            "text/plain": [
              "   count\n",
              "0  24073"
            ]
          },
          "execution_count": 818,
          "metadata": {},
          "output_type": "execute_result"
        }
      ],
      "source": [
        "# результат запроса\n",
        "# Используем метод read_sql_query для выполнения запроса и загрузки результатов в DataFrame\n",
        "df = pd.read_sql_query(query_4_2, connection)\n",
        "df"
      ]
    },
    {
      "cell_type": "markdown",
      "id": "635c4d5d-f323-4c66-b428-50a088120aa0",
      "metadata": {
        "id": "635c4d5d-f323-4c66-b428-50a088120aa0"
      },
      "source": [
        "3. Найдите средние значения для нижней и верхней границы зарплатной вилки. Округлите значения до целого."
      ]
    },
    {
      "cell_type": "code",
      "execution_count": 819,
      "id": "603cdbe4-0ec3-4106-8eaf-c73fcdd29165",
      "metadata": {
        "id": "603cdbe4-0ec3-4106-8eaf-c73fcdd29165"
      },
      "outputs": [],
      "source": [
        "# текст запроса\n",
        "query_4_3 = f'''\n",
        "-- Вычисление средних значений для нижней и верхней границ зарплатной вилки\n",
        "SELECT \n",
        "    ROUND(AVG(salary_from)) AS AVG_from, -- Среднее значение нижней границы зарплаты, округленное до целого числа\n",
        "    ROUND(AVG(salary_to)) AS AVG_to       -- Среднее значение верхней границы зарплаты, округленное до целого числа\n",
        "FROM VACANCIES                           -- Источник данных: таблица VACANCIES\n",
        "'''"
      ]
    },
    {
      "cell_type": "code",
      "execution_count": 820,
      "id": "pswpAb66ovZZ",
      "metadata": {
        "id": "pswpAb66ovZZ"
      },
      "outputs": [
        {
          "name": "stderr",
          "output_type": "stream",
          "text": [
            "C:\\Users\\Администратор\\AppData\\Local\\Temp\\ipykernel_16976\\335256619.py:3: UserWarning: pandas only supports SQLAlchemy connectable (engine/connection) or database string URI or sqlite3 DBAPI2 connection. Other DBAPI2 objects are not tested. Please consider using SQLAlchemy.\n",
            "  df = pd.read_sql_query(query_4_3, connection)\n"
          ]
        },
        {
          "data": {
            "text/html": [
              "<div>\n",
              "<style scoped>\n",
              "    .dataframe tbody tr th:only-of-type {\n",
              "        vertical-align: middle;\n",
              "    }\n",
              "\n",
              "    .dataframe tbody tr th {\n",
              "        vertical-align: top;\n",
              "    }\n",
              "\n",
              "    .dataframe thead th {\n",
              "        text-align: right;\n",
              "    }\n",
              "</style>\n",
              "<table border=\"1\" class=\"dataframe\">\n",
              "  <thead>\n",
              "    <tr style=\"text-align: right;\">\n",
              "      <th></th>\n",
              "      <th>avg_from</th>\n",
              "      <th>avg_to</th>\n",
              "    </tr>\n",
              "  </thead>\n",
              "  <tbody>\n",
              "    <tr>\n",
              "      <th>0</th>\n",
              "      <td>71065.0</td>\n",
              "      <td>110537.0</td>\n",
              "    </tr>\n",
              "  </tbody>\n",
              "</table>\n",
              "</div>"
            ],
            "text/plain": [
              "   avg_from    avg_to\n",
              "0   71065.0  110537.0"
            ]
          },
          "execution_count": 820,
          "metadata": {},
          "output_type": "execute_result"
        }
      ],
      "source": [
        "# результат запроса\n",
        "# Используем метод read_sql_query для выполнения запроса и загрузки результатов в DataFrame\n",
        "df = pd.read_sql_query(query_4_3, connection)\n",
        "df"
      ]
    },
    {
      "cell_type": "markdown",
      "id": "f3fdaec9-5fd3-4260-9cf5-1d7406b628a5",
      "metadata": {
        "id": "f3fdaec9-5fd3-4260-9cf5-1d7406b628a5"
      },
      "source": [
        "4. Напишите запрос, который выведет количество вакансий для каждого сочетания типа рабочего графика (schedule) и типа трудоустройства (employment), используемого в вакансиях. Результат отсортируйте по убыванию количества.\n"
      ]
    },
    {
      "cell_type": "code",
      "execution_count": 821,
      "id": "1ea710ec-871b-431e-9462-c7d0fd87011b",
      "metadata": {
        "id": "1ea710ec-871b-431e-9462-c7d0fd87011b"
      },
      "outputs": [],
      "source": [
        "# текст запроса\n",
        "query_4_4 = f'''\n",
        "-- SQL запрос для получения количества вакансий по типу рабочего графика и трудоустройства\n",
        "SELECT \n",
        "    schedule,        -- Поле 'schedule' указывает тип рабочего графика\n",
        "    employment,      -- Поле 'employment' указывает тип трудоустройства\n",
        "    count(*)         -- Счетчик количества вакансий для каждой уникальной пары 'schedule' и 'employment'\n",
        "FROM \n",
        "    VACANCIES v     -- Источник данных - таблица 'VACANCIES', псевдоним 'v'\n",
        "GROUP BY \n",
        "    1, 2            -- Группировка результатов по первому и второму столбцам (schedule и employment)\n",
        "ORDER BY \n",
        "    3 DESC          -- Сортировка результатов по убыванию значения счетчика вакансий\n",
        "OFFSET \n",
        "    1               -- Пропуск первой строки в отсортированном списке\n",
        "LIMIT \n",
        "    1               -- Ограничение вывода только одной строки\n",
        "'''"
      ]
    },
    {
      "cell_type": "code",
      "execution_count": 822,
      "id": "lGUVqavdo4JQ",
      "metadata": {
        "id": "lGUVqavdo4JQ"
      },
      "outputs": [
        {
          "name": "stderr",
          "output_type": "stream",
          "text": [
            "C:\\Users\\Администратор\\AppData\\Local\\Temp\\ipykernel_16976\\2192052653.py:3: UserWarning: pandas only supports SQLAlchemy connectable (engine/connection) or database string URI or sqlite3 DBAPI2 connection. Other DBAPI2 objects are not tested. Please consider using SQLAlchemy.\n",
            "  df = pd.read_sql_query(query_4_4, connection)\n"
          ]
        },
        {
          "data": {
            "text/html": [
              "<div>\n",
              "<style scoped>\n",
              "    .dataframe tbody tr th:only-of-type {\n",
              "        vertical-align: middle;\n",
              "    }\n",
              "\n",
              "    .dataframe tbody tr th {\n",
              "        vertical-align: top;\n",
              "    }\n",
              "\n",
              "    .dataframe thead th {\n",
              "        text-align: right;\n",
              "    }\n",
              "</style>\n",
              "<table border=\"1\" class=\"dataframe\">\n",
              "  <thead>\n",
              "    <tr style=\"text-align: right;\">\n",
              "      <th></th>\n",
              "      <th>schedule</th>\n",
              "      <th>employment</th>\n",
              "      <th>count</th>\n",
              "    </tr>\n",
              "  </thead>\n",
              "  <tbody>\n",
              "    <tr>\n",
              "      <th>0</th>\n",
              "      <td>Удаленная работа</td>\n",
              "      <td>Полная занятость</td>\n",
              "      <td>7802</td>\n",
              "    </tr>\n",
              "  </tbody>\n",
              "</table>\n",
              "</div>"
            ],
            "text/plain": [
              "           schedule        employment  count\n",
              "0  Удаленная работа  Полная занятость   7802"
            ]
          },
          "execution_count": 822,
          "metadata": {},
          "output_type": "execute_result"
        }
      ],
      "source": [
        "# результат запроса\n",
        "# Используем метод read_sql_query для выполнения запроса и загрузки результатов в DataFrame\n",
        "df = pd.read_sql_query(query_4_4, connection)\n",
        "df"
      ]
    },
    {
      "cell_type": "markdown",
      "id": "0136ffee-0ead-4a6b-b608-61d1c753a438",
      "metadata": {
        "id": "0136ffee-0ead-4a6b-b608-61d1c753a438"
      },
      "source": [
        "5. Напишите запрос, выводящий значения поля Требуемый опыт работы (experience) в порядке возрастания количества вакансий, в которых указан данный вариант опыта. "
      ]
    },
    {
      "cell_type": "code",
      "execution_count": 823,
      "id": "5b3a8e79-f7ab-4008-b767-12aea3a205ea",
      "metadata": {
        "id": "5b3a8e79-f7ab-4008-b767-12aea3a205ea"
      },
      "outputs": [],
      "source": [
        "# текст запроса\n",
        "query_4_5 = f'''\n",
        "-- Выбираем столбцы 'experience' и количество вакансий\n",
        "SELECT \n",
        "    experience,          -- Поле, указывающее требуемый опыт работы\n",
        "    COUNT(*) AS num_vacancies -- Алиас для подсчета количества вакансий\n",
        "\n",
        "-- Указываем таблицу для выборки данных\n",
        "FROM \n",
        "    VACANCIES            -- Имя таблицы, содержащей информацию о вакансиях\n",
        "\n",
        "-- Группируем результаты по полю 'experience'\n",
        "GROUP BY \n",
        "    experience            -- Группировка обеспечивает уникальность значений 'experience'\n",
        "\n",
        "-- Сортируем результаты по возрастанию количества вакансий\n",
        "ORDER BY \n",
        "    num_vacancies ASC;    -- Сортировка от меньшего к большему количеству вакансий\n",
        "'''\n"
      ]
    },
    {
      "cell_type": "code",
      "execution_count": 824,
      "id": "3Is64Y-hpDpq",
      "metadata": {
        "id": "3Is64Y-hpDpq"
      },
      "outputs": [
        {
          "name": "stderr",
          "output_type": "stream",
          "text": [
            "C:\\Users\\Администратор\\AppData\\Local\\Temp\\ipykernel_16976\\3454215564.py:3: UserWarning: pandas only supports SQLAlchemy connectable (engine/connection) or database string URI or sqlite3 DBAPI2 connection. Other DBAPI2 objects are not tested. Please consider using SQLAlchemy.\n",
            "  df = pd.read_sql_query(query_4_5, connection)\n"
          ]
        },
        {
          "data": {
            "text/html": [
              "<div>\n",
              "<style scoped>\n",
              "    .dataframe tbody tr th:only-of-type {\n",
              "        vertical-align: middle;\n",
              "    }\n",
              "\n",
              "    .dataframe tbody tr th {\n",
              "        vertical-align: top;\n",
              "    }\n",
              "\n",
              "    .dataframe thead th {\n",
              "        text-align: right;\n",
              "    }\n",
              "</style>\n",
              "<table border=\"1\" class=\"dataframe\">\n",
              "  <thead>\n",
              "    <tr style=\"text-align: right;\">\n",
              "      <th></th>\n",
              "      <th>experience</th>\n",
              "      <th>num_vacancies</th>\n",
              "    </tr>\n",
              "  </thead>\n",
              "  <tbody>\n",
              "    <tr>\n",
              "      <th>0</th>\n",
              "      <td>Более 6 лет</td>\n",
              "      <td>1337</td>\n",
              "    </tr>\n",
              "    <tr>\n",
              "      <th>1</th>\n",
              "      <td>Нет опыта</td>\n",
              "      <td>7197</td>\n",
              "    </tr>\n",
              "    <tr>\n",
              "      <th>2</th>\n",
              "      <td>От 3 до 6 лет</td>\n",
              "      <td>14511</td>\n",
              "    </tr>\n",
              "    <tr>\n",
              "      <th>3</th>\n",
              "      <td>От 1 года до 3 лет</td>\n",
              "      <td>26152</td>\n",
              "    </tr>\n",
              "  </tbody>\n",
              "</table>\n",
              "</div>"
            ],
            "text/plain": [
              "           experience  num_vacancies\n",
              "0         Более 6 лет           1337\n",
              "1           Нет опыта           7197\n",
              "2       От 3 до 6 лет          14511\n",
              "3  От 1 года до 3 лет          26152"
            ]
          },
          "execution_count": 824,
          "metadata": {},
          "output_type": "execute_result"
        }
      ],
      "source": [
        "# результат запроса\n",
        "# Используем метод read_sql_query для выполнения запроса и загрузки результатов в DataFrame\n",
        "df = pd.read_sql_query(query_4_5, connection)\n",
        "df"
      ]
    },
    {
      "cell_type": "markdown",
      "id": "oq2b7n1QpIka",
      "metadata": {
        "id": "oq2b7n1QpIka"
      },
      "source": [
        "***"
      ]
    },
    {
      "cell_type": "markdown",
      "id": "5462a236",
      "metadata": {},
      "source": [
        "**Выводы детального анализа вакансий**: \n",
        "\n",
        "1. Распределение вакансий по регионам:  \n",
        "   - Москва: **5333**  \n",
        "   - Санкт-Петербург: **2851**  \n",
        "   - Минск: **2112**  \n",
        "   - Новосибирск: **2006**  \n",
        "   - Алмата: **1892**  \n",
        "\n",
        "   Москва является лидером по количеству вакансий, что может отражать более высокий уровень экономической активности и большее количество компаний в регионе.  \n",
        "\n",
        "2. Зарплатные данные:  \n",
        "   - Вакансий с указанием зарплаты: **24073**  \n",
        "   - Средняя нижняя граница зарплаты: **71065**  \n",
        "   - Средняя верхняя граница зарплаты: **110537**  \n",
        "\n",
        "   Значительное количество вакансий с указанием зарплаты говорит о прозрачности рынка труда. Разница между средними значениями нижней и верхней границ зарплатной вилки также указывает на потенциальные возможности для роста доходов.  \n",
        "\n",
        "3. Рабочий график и тип трудоустройства:  \n",
        "   - Вакансий с удаленной работой и полной занятостью: **7802**  \n",
        "\n",
        "   Это подчеркивает популярность удаленной работы и полной занятости, что может быть связано с глобальными тенденциями и стремлением к гибкости в рабочем процессе.  \n",
        "\n",
        "4. Требуемый опыт работы:  \n",
        "   - Более 6 лет: **1337**  \n",
        "   - Нет опыта: **7197**  \n",
        "   - От 3 до 6 лет: **14511**  \n",
        "   - От 1 года до 3 лет: **26152**  \n",
        "   \n",
        "   Наибольшее количество вакансий требует опыт работы от 1 до 3 лет, что может указывать на высокий спрос на специалистов с некоторым опытом, но не обязательно на уровне экспертов. В то же время, значительное количество вакансий доступно для соискателей без опыта, что открывает возможности для начинающих специалистов.  \n",
        "\n",
        "Эти выводы могут помочь понять текущие тенденции на рынке труда и направить усилия при поиске работы или разработке стратегий найма для компаний."
      ]
    },
    {
      "cell_type": "markdown",
      "id": "7ea20ab6-04a7-40a0-adec-443a0e5a42c3",
      "metadata": {
        "id": "7ea20ab6-04a7-40a0-adec-443a0e5a42c3"
      },
      "source": [
        "# Юнит 5. Анализ работодателей"
      ]
    },
    {
      "cell_type": "markdown",
      "id": "968aed80-74ef-4ffb-b5bf-c65b84e9caea",
      "metadata": {
        "id": "968aed80-74ef-4ffb-b5bf-c65b84e9caea"
      },
      "source": [
        "1. Напишите запрос, который позволит узнать, какие работодатели находятся на первом и пятом месте по количеству вакансий."
      ]
    },
    {
      "cell_type": "code",
      "execution_count": 825,
      "id": "f2d62796-d400-4ec1-a675-88112739a50e",
      "metadata": {
        "id": "f2d62796-d400-4ec1-a675-88112739a50e"
      },
      "outputs": [],
      "source": [
        "# текст запроса\n",
        "query_5_1 = f'''\n",
        "-- Создаем временное представление с ранжированием работодателей\n",
        "WITH RankedEmployers AS (\n",
        "    SELECT \n",
        "        e.name, -- выбираем имя работодателя\n",
        "        COUNT(v.id) AS vacancies_count, -- подсчитываем количество вакансий\n",
        "        RANK() OVER (ORDER BY COUNT(v.id) DESC) AS rank -- присваиваем ранг на основе количества вакансий\n",
        "    FROM VACANCIES v -- указываем таблицу вакансий для выборки\n",
        "    JOIN EMPLOYERS e ON v.employer_id = e.id -- соединяем с таблицей работодателей по ID\n",
        "    GROUP BY e.name -- группируем результаты по имени работодателя\n",
        ")\n",
        "-- Выбираем имена и количество вакансий из временного представления\n",
        "SELECT name, vacancies_count\n",
        "FROM RankedEmployers\n",
        "WHERE rank IN (1, 5) -- фильтруем результаты, чтобы получить только первое и пятое место\n",
        "''' "
      ]
    },
    {
      "cell_type": "code",
      "execution_count": 826,
      "id": "64tOMkAxqkQk",
      "metadata": {
        "id": "64tOMkAxqkQk"
      },
      "outputs": [
        {
          "name": "stderr",
          "output_type": "stream",
          "text": [
            "C:\\Users\\Администратор\\AppData\\Local\\Temp\\ipykernel_16976\\2800068212.py:3: UserWarning: pandas only supports SQLAlchemy connectable (engine/connection) or database string URI or sqlite3 DBAPI2 connection. Other DBAPI2 objects are not tested. Please consider using SQLAlchemy.\n",
            "  df = pd.read_sql_query(query_5_1, connection)\n"
          ]
        },
        {
          "data": {
            "text/html": [
              "<div>\n",
              "<style scoped>\n",
              "    .dataframe tbody tr th:only-of-type {\n",
              "        vertical-align: middle;\n",
              "    }\n",
              "\n",
              "    .dataframe tbody tr th {\n",
              "        vertical-align: top;\n",
              "    }\n",
              "\n",
              "    .dataframe thead th {\n",
              "        text-align: right;\n",
              "    }\n",
              "</style>\n",
              "<table border=\"1\" class=\"dataframe\">\n",
              "  <thead>\n",
              "    <tr style=\"text-align: right;\">\n",
              "      <th></th>\n",
              "      <th>name</th>\n",
              "      <th>vacancies_count</th>\n",
              "    </tr>\n",
              "  </thead>\n",
              "  <tbody>\n",
              "    <tr>\n",
              "      <th>0</th>\n",
              "      <td>Яндекс</td>\n",
              "      <td>1933</td>\n",
              "    </tr>\n",
              "    <tr>\n",
              "      <th>1</th>\n",
              "      <td>Газпром нефть</td>\n",
              "      <td>331</td>\n",
              "    </tr>\n",
              "  </tbody>\n",
              "</table>\n",
              "</div>"
            ],
            "text/plain": [
              "            name  vacancies_count\n",
              "0         Яндекс             1933\n",
              "1  Газпром нефть              331"
            ]
          },
          "execution_count": 826,
          "metadata": {},
          "output_type": "execute_result"
        }
      ],
      "source": [
        "# результат запроса\n",
        "# Используем метод read_sql_query для выполнения запроса и загрузки результатов в DataFrame\n",
        "df = pd.read_sql_query(query_5_1, connection)\n",
        "df"
      ]
    },
    {
      "cell_type": "markdown",
      "id": "68377cfc-b378-43dc-ab7d-1195abf2c515",
      "metadata": {
        "id": "68377cfc-b378-43dc-ab7d-1195abf2c515"
      },
      "source": [
        "2. Напишите запрос, который для каждого региона выведет количество работодателей и вакансий в нём.\n",
        "Среди регионов, в которых нет вакансий, найдите тот, в котором наибольшее количество работодателей.\n"
      ]
    },
    {
      "cell_type": "code",
      "execution_count": 827,
      "id": "dd7df27a-e3e8-412e-a21a-5d389b71e891",
      "metadata": {
        "id": "dd7df27a-e3e8-412e-a21a-5d389b71e891"
      },
      "outputs": [],
      "source": [
        "# текст запроса\n",
        "query_5_2 = f'''\n",
        "SELECT \n",
        "    a.name, -- Название региона\n",
        "    count(distinct v.id) vac, -- Подсчет уникальных вакансий в регионе\n",
        "    count(distinct e.id) emp -- Подсчет уникальных работодателей в регионе\n",
        "FROM AREAS a\n",
        "LEFT JOIN VACANCIES v ON v.area_id = a.id -- Соединение с таблицей вакансий по идентификатору региона\n",
        "LEFT JOIN EMPLOYERS e ON e.area = a.id -- Соединение с таблицей работодателей по идентификатору региона\n",
        "WHERE v.id is NULL -- Фильтрация регионов, где нет вакансий\n",
        "GROUP BY 1 -- Группировка результатов по первому столбцу (название региона)\n",
        "ORDER BY emp DESC -- Сортировка результатов по убыванию количества работодателей\n",
        "LIMIT 1 -- Ограничение результатов первой строкой, чтобы получить регион с наибольшим числом работодателей и без вакансий\n",
        "'''"
      ]
    },
    {
      "cell_type": "code",
      "execution_count": 828,
      "id": "x1ikWbydrbf6",
      "metadata": {
        "id": "x1ikWbydrbf6"
      },
      "outputs": [
        {
          "name": "stderr",
          "output_type": "stream",
          "text": [
            "C:\\Users\\Администратор\\AppData\\Local\\Temp\\ipykernel_16976\\3715783008.py:3: UserWarning: pandas only supports SQLAlchemy connectable (engine/connection) or database string URI or sqlite3 DBAPI2 connection. Other DBAPI2 objects are not tested. Please consider using SQLAlchemy.\n",
            "  df = pd.read_sql_query(query_5_2, connection)\n"
          ]
        },
        {
          "data": {
            "text/html": [
              "<div>\n",
              "<style scoped>\n",
              "    .dataframe tbody tr th:only-of-type {\n",
              "        vertical-align: middle;\n",
              "    }\n",
              "\n",
              "    .dataframe tbody tr th {\n",
              "        vertical-align: top;\n",
              "    }\n",
              "\n",
              "    .dataframe thead th {\n",
              "        text-align: right;\n",
              "    }\n",
              "</style>\n",
              "<table border=\"1\" class=\"dataframe\">\n",
              "  <thead>\n",
              "    <tr style=\"text-align: right;\">\n",
              "      <th></th>\n",
              "      <th>name</th>\n",
              "      <th>vac</th>\n",
              "      <th>emp</th>\n",
              "    </tr>\n",
              "  </thead>\n",
              "  <tbody>\n",
              "    <tr>\n",
              "      <th>0</th>\n",
              "      <td>Россия</td>\n",
              "      <td>0</td>\n",
              "      <td>410</td>\n",
              "    </tr>\n",
              "  </tbody>\n",
              "</table>\n",
              "</div>"
            ],
            "text/plain": [
              "     name  vac  emp\n",
              "0  Россия    0  410"
            ]
          },
          "execution_count": 828,
          "metadata": {},
          "output_type": "execute_result"
        }
      ],
      "source": [
        "# результат запроса\n",
        "# Используем метод read_sql_query для выполнения запроса и загрузки результатов в DataFrame\n",
        "df = pd.read_sql_query(query_5_2, connection)\n",
        "df"
      ]
    },
    {
      "cell_type": "markdown",
      "id": "f2fe0acb-ab1a-4e15-9326-2560e22d73c1",
      "metadata": {
        "id": "f2fe0acb-ab1a-4e15-9326-2560e22d73c1"
      },
      "source": [
        "3. Для каждого работодателя посчитайте количество регионов, в которых он публикует свои вакансии. Отсортируйте результат по убыванию количества.\n"
      ]
    },
    {
      "cell_type": "code",
      "execution_count": 829,
      "id": "6271f8ad-bd2e-4196-ae4a-5b39c4c1010e",
      "metadata": {
        "id": "6271f8ad-bd2e-4196-ae4a-5b39c4c1010e"
      },
      "outputs": [],
      "source": [
        "# текст запроса\n",
        "query_5_3 = f'''\n",
        "SELECT \n",
        "    employer_id,                -- Идентификатор работодателя\n",
        "    COUNT(DISTINCT area_id) AS regions_count  -- Количество уникальных регионов\n",
        "FROM \n",
        "    VACANCIES                   -- Из таблицы вакансий\n",
        "GROUP BY \n",
        "    employer_id                 -- Группировка по работодателю\n",
        "ORDER BY \n",
        "    regions_count DESC          -- Сортировка по убыванию количества регионов\n",
        "LIMIT \n",
        "    1                           -- Ограничение результатов первой строкой\n",
        "'''"
      ]
    },
    {
      "cell_type": "code",
      "execution_count": 830,
      "id": "1EIvX3HasH4F",
      "metadata": {
        "id": "1EIvX3HasH4F"
      },
      "outputs": [
        {
          "name": "stderr",
          "output_type": "stream",
          "text": [
            "C:\\Users\\Администратор\\AppData\\Local\\Temp\\ipykernel_16976\\3045365985.py:3: UserWarning: pandas only supports SQLAlchemy connectable (engine/connection) or database string URI or sqlite3 DBAPI2 connection. Other DBAPI2 objects are not tested. Please consider using SQLAlchemy.\n",
            "  df = pd.read_sql_query(query_5_3, connection)\n"
          ]
        },
        {
          "data": {
            "text/html": [
              "<div>\n",
              "<style scoped>\n",
              "    .dataframe tbody tr th:only-of-type {\n",
              "        vertical-align: middle;\n",
              "    }\n",
              "\n",
              "    .dataframe tbody tr th {\n",
              "        vertical-align: top;\n",
              "    }\n",
              "\n",
              "    .dataframe thead th {\n",
              "        text-align: right;\n",
              "    }\n",
              "</style>\n",
              "<table border=\"1\" class=\"dataframe\">\n",
              "  <thead>\n",
              "    <tr style=\"text-align: right;\">\n",
              "      <th></th>\n",
              "      <th>employer_id</th>\n",
              "      <th>regions_count</th>\n",
              "    </tr>\n",
              "  </thead>\n",
              "  <tbody>\n",
              "    <tr>\n",
              "      <th>0</th>\n",
              "      <td>1740</td>\n",
              "      <td>181</td>\n",
              "    </tr>\n",
              "  </tbody>\n",
              "</table>\n",
              "</div>"
            ],
            "text/plain": [
              "   employer_id  regions_count\n",
              "0         1740            181"
            ]
          },
          "execution_count": 830,
          "metadata": {},
          "output_type": "execute_result"
        }
      ],
      "source": [
        "# результат запроса\n",
        "# Используем метод read_sql_query для выполнения запроса и загрузки результатов в DataFrame\n",
        "df = pd.read_sql_query(query_5_3, connection)\n",
        "df"
      ]
    },
    {
      "cell_type": "markdown",
      "id": "eab2206d-d95b-468b-8e5f-34381abf0ce7",
      "metadata": {
        "id": "eab2206d-d95b-468b-8e5f-34381abf0ce7"
      },
      "source": [
        "4. Напишите запрос для подсчёта количества работодателей, у которых не указана сфера деятельности. "
      ]
    },
    {
      "cell_type": "code",
      "execution_count": 831,
      "id": "80defb23-bfb1-4a18-8be6-bf36aa7165d5",
      "metadata": {
        "id": "80defb23-bfb1-4a18-8be6-bf36aa7165d5"
      },
      "outputs": [],
      "source": [
        "# текст запроса\n",
        "query_5_4 = f'''\n",
        "-- Выбираем количество работодателей\n",
        "    SELECT \n",
        "        count(*) -- Подсчет всех строк в результате\n",
        "    FROM EMPLOYERS e -- Из таблицы работодателей\n",
        "    LEFT JOIN EMPLOYERS_INDUSTRIES ei on e.id = ei.employer_id -- Левое соединение с таблицей отраслей работодателей\n",
        "    WHERE ei.industry_id is NULL -- Условие: выбираем только те строки, где нет связи с отраслью\n",
        "'''"
      ]
    },
    {
      "cell_type": "code",
      "execution_count": 832,
      "id": "Dp_yCx6ysQSu",
      "metadata": {
        "id": "Dp_yCx6ysQSu"
      },
      "outputs": [
        {
          "name": "stderr",
          "output_type": "stream",
          "text": [
            "C:\\Users\\Администратор\\AppData\\Local\\Temp\\ipykernel_16976\\1953364370.py:3: UserWarning: pandas only supports SQLAlchemy connectable (engine/connection) or database string URI or sqlite3 DBAPI2 connection. Other DBAPI2 objects are not tested. Please consider using SQLAlchemy.\n",
            "  df = pd.read_sql_query(query_5_4, connection)\n"
          ]
        },
        {
          "data": {
            "text/html": [
              "<div>\n",
              "<style scoped>\n",
              "    .dataframe tbody tr th:only-of-type {\n",
              "        vertical-align: middle;\n",
              "    }\n",
              "\n",
              "    .dataframe tbody tr th {\n",
              "        vertical-align: top;\n",
              "    }\n",
              "\n",
              "    .dataframe thead th {\n",
              "        text-align: right;\n",
              "    }\n",
              "</style>\n",
              "<table border=\"1\" class=\"dataframe\">\n",
              "  <thead>\n",
              "    <tr style=\"text-align: right;\">\n",
              "      <th></th>\n",
              "      <th>count</th>\n",
              "    </tr>\n",
              "  </thead>\n",
              "  <tbody>\n",
              "    <tr>\n",
              "      <th>0</th>\n",
              "      <td>8419</td>\n",
              "    </tr>\n",
              "  </tbody>\n",
              "</table>\n",
              "</div>"
            ],
            "text/plain": [
              "   count\n",
              "0   8419"
            ]
          },
          "execution_count": 832,
          "metadata": {},
          "output_type": "execute_result"
        }
      ],
      "source": [
        "# результат запроса\n",
        "# Используем метод read_sql_query для выполнения запроса и загрузки результатов в DataFrame\n",
        "df = pd.read_sql_query(query_5_4, connection)\n",
        "df"
      ]
    },
    {
      "cell_type": "markdown",
      "id": "0112af31-f6b0-4e3b-82ab-71296e752e5e",
      "metadata": {
        "id": "0112af31-f6b0-4e3b-82ab-71296e752e5e"
      },
      "source": [
        "5. Напишите запрос, чтобы узнать название компании, находящейся на третьем месте в алфавитном списке (по названию) компаний, у которых указано четыре сферы деятельности. "
      ]
    },
    {
      "cell_type": "code",
      "execution_count": 833,
      "id": "973b0cfc-a972-470a-8b4a-68744ef220c4",
      "metadata": {
        "id": "973b0cfc-a972-470a-8b4a-68744ef220c4"
      },
      "outputs": [],
      "source": [
        "# текст запроса\n",
        "query_5_5 = f'''\n",
        "-- Выбираем название компании\n",
        "SELECT e.name\n",
        "FROM EMPLOYERS e\n",
        "-- Присоединяем подзапрос, который фильтрует компании по количеству сфер деятельности\n",
        "JOIN (\n",
        "    -- Подзапрос для выбора компаний с четырьмя сферами деятельности\n",
        "    SELECT employer_id\n",
        "    FROM EMPLOYERS_INDUSTRIES\n",
        "    -- Группируем по идентификатору работодателя\n",
        "    GROUP BY employer_id\n",
        "    -- Оставляем только те группы, где ровно 4 сферы деятельности\n",
        "    HAVING COUNT(industry_id) = 4\n",
        ") AS ei ON e.id = ei.employer_id\n",
        "-- Сортируем результаты по названию компании в алфавитном порядке\n",
        "ORDER BY e.name\n",
        "-- Возвращаем только одну запись\n",
        "LIMIT 1\n",
        "-- Пропускаем первые две записи, чтобы получить компанию на третьем месте\n",
        "OFFSET 2\n",
        "'''"
      ]
    },
    {
      "cell_type": "code",
      "execution_count": 834,
      "id": "xsPtpp8EsaED",
      "metadata": {
        "id": "xsPtpp8EsaED"
      },
      "outputs": [
        {
          "name": "stderr",
          "output_type": "stream",
          "text": [
            "C:\\Users\\Администратор\\AppData\\Local\\Temp\\ipykernel_16976\\855799063.py:3: UserWarning: pandas only supports SQLAlchemy connectable (engine/connection) or database string URI or sqlite3 DBAPI2 connection. Other DBAPI2 objects are not tested. Please consider using SQLAlchemy.\n",
            "  df = pd.read_sql_query(query_5_5, connection)\n"
          ]
        },
        {
          "data": {
            "text/html": [
              "<div>\n",
              "<style scoped>\n",
              "    .dataframe tbody tr th:only-of-type {\n",
              "        vertical-align: middle;\n",
              "    }\n",
              "\n",
              "    .dataframe tbody tr th {\n",
              "        vertical-align: top;\n",
              "    }\n",
              "\n",
              "    .dataframe thead th {\n",
              "        text-align: right;\n",
              "    }\n",
              "</style>\n",
              "<table border=\"1\" class=\"dataframe\">\n",
              "  <thead>\n",
              "    <tr style=\"text-align: right;\">\n",
              "      <th></th>\n",
              "      <th>name</th>\n",
              "    </tr>\n",
              "  </thead>\n",
              "  <tbody>\n",
              "    <tr>\n",
              "      <th>0</th>\n",
              "      <td>2ГИС</td>\n",
              "    </tr>\n",
              "  </tbody>\n",
              "</table>\n",
              "</div>"
            ],
            "text/plain": [
              "   name\n",
              "0  2ГИС"
            ]
          },
          "execution_count": 834,
          "metadata": {},
          "output_type": "execute_result"
        }
      ],
      "source": [
        "# результат запроса\n",
        "# Используем метод read_sql_query для выполнения запроса и загрузки результатов в DataFrame\n",
        "df = pd.read_sql_query(query_5_5, connection)\n",
        "df"
      ]
    },
    {
      "cell_type": "markdown",
      "id": "3bfcfdaf-755d-4d2b-8ed8-326201dc07ab",
      "metadata": {
        "id": "3bfcfdaf-755d-4d2b-8ed8-326201dc07ab"
      },
      "source": [
        "6. С помощью запроса выясните, у какого количества работодателей в качестве сферы деятельности указана Разработка программного обеспечения.\n"
      ]
    },
    {
      "cell_type": "code",
      "execution_count": 835,
      "id": "ad3f270f-2991-47eb-929b-e8f88a55b0d1",
      "metadata": {
        "id": "ad3f270f-2991-47eb-929b-e8f88a55b0d1"
      },
      "outputs": [],
      "source": [
        "# текст запроса\n",
        "query_5_6 = f'''\n",
        "-- Подсчёт количества работодателей в сфере 'Разработка программного обеспечения'\n",
        "SELECT COUNT(*) AS cnt -- Количество работодателей с указанной сферой деятельности\n",
        "FROM EMPLOYERS_INDUSTRIES ei -- Из таблицы связи работодателей и отраслей\n",
        "WHERE EXISTS ( -- Проверка на существование\n",
        "    SELECT 1 -- Если найдена хотя бы одна запись, возвращает TRUE\n",
        "    FROM INDUSTRIES i -- Из таблицы отраслей\n",
        "    WHERE i.id = ei.industry_id -- Соединение по полю industry_id\n",
        "      AND i.name = 'Разработка программного обеспечения' -- Условие поиска по названию отрасли\n",
        ")\n",
        "'''"
      ]
    },
    {
      "cell_type": "code",
      "execution_count": 836,
      "id": "H72qxWM0shPR",
      "metadata": {
        "id": "H72qxWM0shPR"
      },
      "outputs": [
        {
          "name": "stderr",
          "output_type": "stream",
          "text": [
            "C:\\Users\\Администратор\\AppData\\Local\\Temp\\ipykernel_16976\\265095605.py:3: UserWarning: pandas only supports SQLAlchemy connectable (engine/connection) or database string URI or sqlite3 DBAPI2 connection. Other DBAPI2 objects are not tested. Please consider using SQLAlchemy.\n",
            "  df = pd.read_sql_query(query_5_6, connection)\n"
          ]
        },
        {
          "data": {
            "text/html": [
              "<div>\n",
              "<style scoped>\n",
              "    .dataframe tbody tr th:only-of-type {\n",
              "        vertical-align: middle;\n",
              "    }\n",
              "\n",
              "    .dataframe tbody tr th {\n",
              "        vertical-align: top;\n",
              "    }\n",
              "\n",
              "    .dataframe thead th {\n",
              "        text-align: right;\n",
              "    }\n",
              "</style>\n",
              "<table border=\"1\" class=\"dataframe\">\n",
              "  <thead>\n",
              "    <tr style=\"text-align: right;\">\n",
              "      <th></th>\n",
              "      <th>cnt</th>\n",
              "    </tr>\n",
              "  </thead>\n",
              "  <tbody>\n",
              "    <tr>\n",
              "      <th>0</th>\n",
              "      <td>3553</td>\n",
              "    </tr>\n",
              "  </tbody>\n",
              "</table>\n",
              "</div>"
            ],
            "text/plain": [
              "    cnt\n",
              "0  3553"
            ]
          },
          "execution_count": 836,
          "metadata": {},
          "output_type": "execute_result"
        }
      ],
      "source": [
        "# результат запроса\n",
        "# Используем метод read_sql_query для выполнения запроса и загрузки результатов в DataFrame\n",
        "df = pd.read_sql_query(query_5_6, connection)\n",
        "df"
      ]
    },
    {
      "cell_type": "markdown",
      "id": "7b02bb86-0546-40fb-94a4-242f050a5c57",
      "metadata": {
        "id": "7b02bb86-0546-40fb-94a4-242f050a5c57"
      },
      "source": [
        "7. Для компании «Яндекс» выведите список регионов-миллионников, в которых представлены вакансии компании, вместе с количеством вакансий в этих регионах. Также добавьте строку Total с общим количеством вакансий компании. Результат отсортируйте по возрастанию количества.\n",
        "\n",
        "Список городов-милионников надо взять [отсюда](https://ru.wikipedia.org/wiki/%D0%93%D0%BE%D1%80%D0%BE%D0%B4%D0%B0-%D0%BC%D0%B8%D0%BB%D0%BB%D0%B8%D0%BE%D0%BD%D0%B5%D1%80%D1%8B_%D0%A0%D0%BE%D1%81%D1%81%D0%B8%D0%B8). \n",
        "\n",
        "Если возникнут трудности с этим задание посмотрите материалы модуля  PYTHON-17. Как получать данные из веб-источников и API. "
      ]
    },
    {
      "cell_type": "code",
      "execution_count": 837,
      "id": "ZdfrL6gIs1Pn",
      "metadata": {
        "id": "ZdfrL6gIs1Pn"
      },
      "outputs": [],
      "source": [
        "# Загружаем библиотеки, необходимые для работы скрипта\n",
        "import requests\n",
        "from bs4 import BeautifulSoup\n",
        "\n",
        "# Определяем веб-адрес страницы Википедии, содержащей список городов-миллионников России\n",
        "url = 'https://ru.wikipedia.org/wiki/Города-миллионеры_России'\n",
        "# Выполняем запрос к указанному URL\n",
        "response = requests.get(url)\n",
        "# Используем BeautifulSoup для анализа HTML-кода страницы\n",
        "page = BeautifulSoup(response.text, 'html.parser')\n",
        "# Находим в HTML-коде таблицу с нужными данными и преобразуем её в текстовый формат\n",
        "cities_info = str(page.find('table', class_=\"standard\"))\n",
        "# Извлекаем данные о городах, разделяя текст по маркеру 'title=\"' и выбираем данные, начиная с третьего элемента\n",
        "cities_info = cities_info.split('title=\"')[3:]\n",
        "\n",
        "# Инициализируем список для сбора названий городов\n",
        "list = []\n",
        "# Обрабатываем каждый фрагмент данных о городах\n",
        "for city_num in cities_info:\n",
        "    # Извлекаем название города и добавляем его в список\n",
        "    list.append(city_num.split('\">')[0])\n",
        "# Конвертируем список названий городов в кортеж для дальнейшего использования\n",
        "cities = tuple(list)\n"
      ]
    },
    {
      "cell_type": "code",
      "execution_count": 838,
      "id": "5a0e32a4-e68a-4365-8a39-2fe24c542c36",
      "metadata": {
        "id": "5a0e32a4-e68a-4365-8a39-2fe24c542c36"
      },
      "outputs": [],
      "source": [
        "query_5_7 = f'''\n",
        "-- Формируем временную таблицу для сортировки работодателей по количеству вакансий\n",
        "WITH RankedEmployers AS (\n",
        "    -- Извлекаем названия регионов и подсчитываем количество вакансий\n",
        "    SELECT a.name AS AreaName,\n",
        "           COUNT(*) AS VacanciesCount\n",
        "    -- Соединяем данные о работодателях с информацией о вакансиях\n",
        "    FROM employers e\n",
        "    JOIN vacancies v ON e.id = v.employer_id\n",
        "    -- Добавляем данные о регионах\n",
        "    JOIN areas a ON a.id = v.area_id\n",
        "    -- Фильтруем данные по названию компании и принадлежности региона к списку городов-миллионников\n",
        "    WHERE e.name = 'Яндекс'\n",
        "          AND a.name IN {cities}\n",
        "    -- Группируем полученные данные по идентификатору региона\n",
        "    GROUP BY a.id\n",
        ")\n",
        "-- Получаем названия регионов и соответствующее количество вакансий из сформированной таблицы\n",
        "SELECT AreaName, \n",
        "       VacanciesCount\n",
        "FROM RankedEmployers\n",
        "-- Дополняем результаты общим количеством вакансий\n",
        "UNION ALL\n",
        "-- Вычисляем общее количество вакансий, используя метку 'Total'\n",
        "SELECT 'Total' AS TotalLabel, \n",
        "       SUM(VacanciesCount) AS TotalCount\n",
        "FROM RankedEmployers\n",
        "'''"
      ]
    },
    {
      "cell_type": "code",
      "execution_count": 839,
      "id": "ttPhiO1rsvPq",
      "metadata": {
        "id": "ttPhiO1rsvPq"
      },
      "outputs": [
        {
          "name": "stderr",
          "output_type": "stream",
          "text": [
            "C:\\Users\\Администратор\\AppData\\Local\\Temp\\ipykernel_16976\\4145711732.py:3: UserWarning: pandas only supports SQLAlchemy connectable (engine/connection) or database string URI or sqlite3 DBAPI2 connection. Other DBAPI2 objects are not tested. Please consider using SQLAlchemy.\n",
            "  df = pd.read_sql_query(query_5_7, connection)\n"
          ]
        },
        {
          "data": {
            "text/html": [
              "<div>\n",
              "<style scoped>\n",
              "    .dataframe tbody tr th:only-of-type {\n",
              "        vertical-align: middle;\n",
              "    }\n",
              "\n",
              "    .dataframe tbody tr th {\n",
              "        vertical-align: top;\n",
              "    }\n",
              "\n",
              "    .dataframe thead th {\n",
              "        text-align: right;\n",
              "    }\n",
              "</style>\n",
              "<table border=\"1\" class=\"dataframe\">\n",
              "  <thead>\n",
              "    <tr style=\"text-align: right;\">\n",
              "      <th></th>\n",
              "      <th>areaname</th>\n",
              "      <th>vacanciescount</th>\n",
              "    </tr>\n",
              "  </thead>\n",
              "  <tbody>\n",
              "    <tr>\n",
              "      <th>0</th>\n",
              "      <td>Москва</td>\n",
              "      <td>54.0</td>\n",
              "    </tr>\n",
              "    <tr>\n",
              "      <th>1</th>\n",
              "      <td>Санкт-Петербург</td>\n",
              "      <td>42.0</td>\n",
              "    </tr>\n",
              "    <tr>\n",
              "      <th>2</th>\n",
              "      <td>Екатеринбург</td>\n",
              "      <td>39.0</td>\n",
              "    </tr>\n",
              "    <tr>\n",
              "      <th>3</th>\n",
              "      <td>Новосибирск</td>\n",
              "      <td>35.0</td>\n",
              "    </tr>\n",
              "    <tr>\n",
              "      <th>4</th>\n",
              "      <td>Волгоград</td>\n",
              "      <td>24.0</td>\n",
              "    </tr>\n",
              "    <tr>\n",
              "      <th>5</th>\n",
              "      <td>Воронеж</td>\n",
              "      <td>32.0</td>\n",
              "    </tr>\n",
              "    <tr>\n",
              "      <th>6</th>\n",
              "      <td>Краснодар</td>\n",
              "      <td>30.0</td>\n",
              "    </tr>\n",
              "    <tr>\n",
              "      <th>7</th>\n",
              "      <td>Красноярск</td>\n",
              "      <td>23.0</td>\n",
              "    </tr>\n",
              "    <tr>\n",
              "      <th>8</th>\n",
              "      <td>Нижний Новгород</td>\n",
              "      <td>36.0</td>\n",
              "    </tr>\n",
              "    <tr>\n",
              "      <th>9</th>\n",
              "      <td>Омск</td>\n",
              "      <td>21.0</td>\n",
              "    </tr>\n",
              "    <tr>\n",
              "      <th>10</th>\n",
              "      <td>Пермь</td>\n",
              "      <td>25.0</td>\n",
              "    </tr>\n",
              "    <tr>\n",
              "      <th>11</th>\n",
              "      <td>Ростов-на-Дону</td>\n",
              "      <td>25.0</td>\n",
              "    </tr>\n",
              "    <tr>\n",
              "      <th>12</th>\n",
              "      <td>Самара</td>\n",
              "      <td>26.0</td>\n",
              "    </tr>\n",
              "    <tr>\n",
              "      <th>13</th>\n",
              "      <td>Казань</td>\n",
              "      <td>25.0</td>\n",
              "    </tr>\n",
              "    <tr>\n",
              "      <th>14</th>\n",
              "      <td>Уфа</td>\n",
              "      <td>26.0</td>\n",
              "    </tr>\n",
              "    <tr>\n",
              "      <th>15</th>\n",
              "      <td>Челябинск</td>\n",
              "      <td>22.0</td>\n",
              "    </tr>\n",
              "    <tr>\n",
              "      <th>16</th>\n",
              "      <td>Total</td>\n",
              "      <td>485.0</td>\n",
              "    </tr>\n",
              "  </tbody>\n",
              "</table>\n",
              "</div>"
            ],
            "text/plain": [
              "           areaname  vacanciescount\n",
              "0            Москва            54.0\n",
              "1   Санкт-Петербург            42.0\n",
              "2      Екатеринбург            39.0\n",
              "3       Новосибирск            35.0\n",
              "4         Волгоград            24.0\n",
              "5           Воронеж            32.0\n",
              "6         Краснодар            30.0\n",
              "7        Красноярск            23.0\n",
              "8   Нижний Новгород            36.0\n",
              "9              Омск            21.0\n",
              "10            Пермь            25.0\n",
              "11   Ростов-на-Дону            25.0\n",
              "12           Самара            26.0\n",
              "13           Казань            25.0\n",
              "14              Уфа            26.0\n",
              "15        Челябинск            22.0\n",
              "16            Total           485.0"
            ]
          },
          "execution_count": 839,
          "metadata": {},
          "output_type": "execute_result"
        }
      ],
      "source": [
        "# результат запроса\n",
        "# Используем метод read_sql_query для выполнения запроса и загрузки результатов в DataFrame\n",
        "df = pd.read_sql_query(query_5_7, connection)\n",
        "df"
      ]
    },
    {
      "cell_type": "markdown",
      "id": "04966e40-3bc3-4dc8-9ba2-e80580ce3abc",
      "metadata": {
        "id": "04966e40-3bc3-4dc8-9ba2-e80580ce3abc"
      },
      "source": [
        "***"
      ]
    },
    {
      "cell_type": "markdown",
      "id": "3b0c03c4",
      "metadata": {},
      "source": [
        "**Выводы по анализу работодателей**:  \n",
        "\n",
        "1. Ведущие позиции по количеству вакансий занимают компании из IT и нефтегазовой отрасли, с **Яндексом** на вершине списка (**1933** вакансии) и **Газпром нефтью** на пятом месте (**331** вакансия).  \n",
        "\n",
        "2. Несмотря на наличие работодателей, в **России** нет открытых вакансий, что может указывать на более точное указание работодателями регионов с вакансиями.  \n",
        "\n",
        "3. Работодатель с идентификатором **id1740** присутствует в **181** регионе.  \n",
        "\n",
        "4. **8419** работодателей не указывают свою сферу деятельности, что не связано с наличием у них нескольких сфер, так как есть работодатели, указывающие несколько сфер деятельности.  \n",
        "\n",
        "5. Компания **2ГИС** находится на третьем месте в алфавитном списке компаний с четырьмя сферами деятельности.\n",
        "\n",
        "6. **3553** работодателя указали сферу деятельности «Разработка программного обеспечения», что подчеркивает высокий спрос на профессионалов в этой области.  \n",
        "\n",
        "7. Исследование рынка труда показывает, что основная часть предложений о работе от компании “Яндекс” приходится на Москву, где открыто **54 вакансии**, и Санкт-Петербург с **42 вакансиями**. Это соответствует их роли ведущих экономических центров страны. В целом, наличие **485 вакансий** указывает на то, что “Яндекс” занимает прочные позиции на российском рынке труда.\n",
        "\n",
        "Эти выводы отражают текущую динамику рынка труда и могут служить основой для дальнейшего анализа и стратегического планирования в различных отраслях.\n"
      ]
    },
    {
      "cell_type": "markdown",
      "id": "b1ef156a-efcb-49ce-bb23-90763e7f35b2",
      "metadata": {
        "id": "b1ef156a-efcb-49ce-bb23-90763e7f35b2",
        "tags": []
      },
      "source": [
        "# Юнит 6. Предметный анализ"
      ]
    },
    {
      "cell_type": "markdown",
      "id": "b9cd50a0-992d-4988-8463-2b2b1c4629b4",
      "metadata": {
        "id": "b9cd50a0-992d-4988-8463-2b2b1c4629b4"
      },
      "source": [
        "1. Сколько вакансий имеет отношение к данным?\n",
        "\n",
        "Считаем, что вакансия имеет отношение к данным, если в её названии содержатся слова 'data' или 'данн'.\n",
        "\n",
        "*Подсказка: Обратите внимание, что названия вакансий могут быть написаны в любом регистре.* \n"
      ]
    },
    {
      "cell_type": "code",
      "execution_count": 840,
      "id": "54ab0e50-c0f1-47cc-a54b-bc5c8bc363f9",
      "metadata": {
        "id": "54ab0e50-c0f1-47cc-a54b-bc5c8bc363f9"
      },
      "outputs": [],
      "source": [
        "# текст запроса\n",
        "query_6_1 = f'''\n",
        "SELECT \n",
        "    count(*) -- Подсчет количества вакансий\n",
        "FROM \n",
        "    VACANCIES -- Из таблицы VACANCIES\n",
        "WHERE \n",
        "    name ILIKE '%data%' -- Название вакансии содержит 'data', нечувствительно к регистру\n",
        "    OR \n",
        "    name ILIKE '%данн%' -- Или название вакансии содержит 'данн', также нечувствительно к регистру\n",
        "'''"
      ]
    },
    {
      "cell_type": "code",
      "execution_count": 841,
      "id": "9F1meAqsuUjd",
      "metadata": {
        "id": "9F1meAqsuUjd"
      },
      "outputs": [
        {
          "name": "stderr",
          "output_type": "stream",
          "text": [
            "C:\\Users\\Администратор\\AppData\\Local\\Temp\\ipykernel_16976\\324510955.py:3: UserWarning: pandas only supports SQLAlchemy connectable (engine/connection) or database string URI or sqlite3 DBAPI2 connection. Other DBAPI2 objects are not tested. Please consider using SQLAlchemy.\n",
            "  df = pd.read_sql_query(query_6_1, connection)\n"
          ]
        },
        {
          "data": {
            "text/html": [
              "<div>\n",
              "<style scoped>\n",
              "    .dataframe tbody tr th:only-of-type {\n",
              "        vertical-align: middle;\n",
              "    }\n",
              "\n",
              "    .dataframe tbody tr th {\n",
              "        vertical-align: top;\n",
              "    }\n",
              "\n",
              "    .dataframe thead th {\n",
              "        text-align: right;\n",
              "    }\n",
              "</style>\n",
              "<table border=\"1\" class=\"dataframe\">\n",
              "  <thead>\n",
              "    <tr style=\"text-align: right;\">\n",
              "      <th></th>\n",
              "      <th>count</th>\n",
              "    </tr>\n",
              "  </thead>\n",
              "  <tbody>\n",
              "    <tr>\n",
              "      <th>0</th>\n",
              "      <td>1771</td>\n",
              "    </tr>\n",
              "  </tbody>\n",
              "</table>\n",
              "</div>"
            ],
            "text/plain": [
              "   count\n",
              "0   1771"
            ]
          },
          "execution_count": 841,
          "metadata": {},
          "output_type": "execute_result"
        }
      ],
      "source": [
        "# результат запроса\n",
        "# Используем метод read_sql_query для выполнения запроса и загрузки результатов в DataFrame\n",
        "df = pd.read_sql_query(query_6_1, connection)\n",
        "df"
      ]
    },
    {
      "cell_type": "markdown",
      "id": "4dea20cb-a36b-474a-a0b9-e08e8e3857a5",
      "metadata": {
        "id": "4dea20cb-a36b-474a-a0b9-e08e8e3857a5"
      },
      "source": [
        "2. Сколько есть подходящих вакансий для начинающего дата-сайентиста? \n",
        "Будем считать вакансиями для дата-сайентистов такие, в названии которых есть хотя бы одно из следующих сочетаний:\n",
        "* 'data scientist'\n",
        "* 'data science'\n",
        "* 'исследователь данных'\n",
        "* 'ML' (здесь не нужно брать вакансии по HTML)\n",
        "* 'machine learning'\n",
        "* 'машинн%обучен%'\n",
        "\n",
        "** В следующих заданиях мы продолжим работать с вакансиями по этому условию.*\n",
        "\n",
        "Считаем вакансиями для специалистов уровня Junior следующие:\n",
        "* в названии есть слово 'junior' *или*\n",
        "* требуемый опыт — Нет опыта *или*\n",
        "* тип трудоустройства — Стажировка.\n",
        " "
      ]
    },
    {
      "cell_type": "code",
      "execution_count": 842,
      "id": "9c61b3c0-bb66-46c9-ae1e-81d3f5752b4a",
      "metadata": {
        "id": "9c61b3c0-bb66-46c9-ae1e-81d3f5752b4a"
      },
      "outputs": [],
      "source": [
        "# текст запроса\n",
        "query_6_2 = f'''\n",
        "SELECT \n",
        "    COUNT(*) -- Подсчет количества вакансий\n",
        "FROM VACANCIES\n",
        "WHERE \n",
        "    (\n",
        "        name ILIKE '%data scientist%' OR -- Поиск вакансий для 'data scientist'\n",
        "        name ILIKE '%data science%' OR -- Поиск вакансий в области 'data science'\n",
        "        name ILIKE '%исследователь данных%' OR -- Поиск вакансий для 'исследователя данных'\n",
        "        (\n",
        "            name LIKE '%ML%' AND -- Поиск вакансий, связанных с 'ML' (Machine Learning)\n",
        "            name NOT LIKE '%HTML%' -- Исключение вакансий, связанных с 'HTML'\n",
        "        ) OR\n",
        "        name ILIKE '%machine learning%' OR -- Поиск вакансий в области 'machine learning'\n",
        "        name ILIKE '%машинн%обучен%' -- Поиск вакансий, связанных с 'машинным обучением'\n",
        "    )\n",
        "    AND\n",
        "    (\n",
        "        name ILIKE '%junior%' OR -- Поиск вакансий для 'junior' специалистов\n",
        "        experience ILIKE '%Нет опыта%' OR -- Поиск вакансий без требования опыта работы\n",
        "        employment ILIKE '%Стажировка%' -- Поиск стажировок\n",
        "    )\n",
        "''' "
      ]
    },
    {
      "cell_type": "code",
      "execution_count": 843,
      "id": "ZNM-LLYuu1dj",
      "metadata": {
        "id": "ZNM-LLYuu1dj"
      },
      "outputs": [
        {
          "name": "stderr",
          "output_type": "stream",
          "text": [
            "C:\\Users\\Администратор\\AppData\\Local\\Temp\\ipykernel_16976\\954701305.py:3: UserWarning: pandas only supports SQLAlchemy connectable (engine/connection) or database string URI or sqlite3 DBAPI2 connection. Other DBAPI2 objects are not tested. Please consider using SQLAlchemy.\n",
            "  df = pd.read_sql_query(query_6_2, connection)\n"
          ]
        },
        {
          "data": {
            "text/html": [
              "<div>\n",
              "<style scoped>\n",
              "    .dataframe tbody tr th:only-of-type {\n",
              "        vertical-align: middle;\n",
              "    }\n",
              "\n",
              "    .dataframe tbody tr th {\n",
              "        vertical-align: top;\n",
              "    }\n",
              "\n",
              "    .dataframe thead th {\n",
              "        text-align: right;\n",
              "    }\n",
              "</style>\n",
              "<table border=\"1\" class=\"dataframe\">\n",
              "  <thead>\n",
              "    <tr style=\"text-align: right;\">\n",
              "      <th></th>\n",
              "      <th>count</th>\n",
              "    </tr>\n",
              "  </thead>\n",
              "  <tbody>\n",
              "    <tr>\n",
              "      <th>0</th>\n",
              "      <td>51</td>\n",
              "    </tr>\n",
              "  </tbody>\n",
              "</table>\n",
              "</div>"
            ],
            "text/plain": [
              "   count\n",
              "0     51"
            ]
          },
          "execution_count": 843,
          "metadata": {},
          "output_type": "execute_result"
        }
      ],
      "source": [
        "# результат запроса\n",
        "# Используем метод read_sql_query для выполнения запроса и загрузки результатов в DataFrame\n",
        "df = pd.read_sql_query(query_6_2, connection)\n",
        "df"
      ]
    },
    {
      "cell_type": "markdown",
      "id": "eedceb80-c5ca-480e-b27a-278dfb8b4438",
      "metadata": {
        "id": "eedceb80-c5ca-480e-b27a-278dfb8b4438"
      },
      "source": [
        "3. Сколько есть вакансий для DS, в которых в качестве ключевого навыка указан SQL или postgres?\n",
        "\n",
        "** Критерии для отнесения вакансии к DS указаны в предыдущем задании.*"
      ]
    },
    {
      "cell_type": "code",
      "execution_count": 844,
      "id": "69621713-0cc5-4f1b-a1d7-bb144fa6148c",
      "metadata": {
        "id": "69621713-0cc5-4f1b-a1d7-bb144fa6148c"
      },
      "outputs": [],
      "source": [
        "# текст запроса\n",
        "query_6_3 = f'''\n",
        "SELECT COUNT(*) -- подсчет количества вакансий\n",
        "FROM VACANCIES -- из таблицы вакансий\n",
        "WHERE (\n",
        "    name ILIKE ANY (ARRAY['%data scientist%', '%data science%', '%исследователь данных%', '%machine learning%', '%машинн%обучен%']) -- название вакансии содержит любое из этих ключевых слов\n",
        "    OR\n",
        "    (name ILIKE '%ML%' AND name NOT ILIKE '%HTML%') -- название вакансии содержит 'ML', но не 'HTML'\n",
        ") AND (\n",
        "    key_skills ILIKE '%SQL%' OR -- ключевые навыки содержат 'SQL'\n",
        "    key_skills ILIKE '%postgres%' -- или 'postgres'\n",
        ")\n",
        "'''"
      ]
    },
    {
      "cell_type": "code",
      "execution_count": 845,
      "id": "alA8WEAAvGdf",
      "metadata": {
        "id": "alA8WEAAvGdf"
      },
      "outputs": [
        {
          "name": "stderr",
          "output_type": "stream",
          "text": [
            "C:\\Users\\Администратор\\AppData\\Local\\Temp\\ipykernel_16976\\3827696973.py:3: UserWarning: pandas only supports SQLAlchemy connectable (engine/connection) or database string URI or sqlite3 DBAPI2 connection. Other DBAPI2 objects are not tested. Please consider using SQLAlchemy.\n",
            "  df = pd.read_sql_query(query_6_3, connection)\n"
          ]
        },
        {
          "data": {
            "text/html": [
              "<div>\n",
              "<style scoped>\n",
              "    .dataframe tbody tr th:only-of-type {\n",
              "        vertical-align: middle;\n",
              "    }\n",
              "\n",
              "    .dataframe tbody tr th {\n",
              "        vertical-align: top;\n",
              "    }\n",
              "\n",
              "    .dataframe thead th {\n",
              "        text-align: right;\n",
              "    }\n",
              "</style>\n",
              "<table border=\"1\" class=\"dataframe\">\n",
              "  <thead>\n",
              "    <tr style=\"text-align: right;\">\n",
              "      <th></th>\n",
              "      <th>count</th>\n",
              "    </tr>\n",
              "  </thead>\n",
              "  <tbody>\n",
              "    <tr>\n",
              "      <th>0</th>\n",
              "      <td>229</td>\n",
              "    </tr>\n",
              "  </tbody>\n",
              "</table>\n",
              "</div>"
            ],
            "text/plain": [
              "   count\n",
              "0    229"
            ]
          },
          "execution_count": 845,
          "metadata": {},
          "output_type": "execute_result"
        }
      ],
      "source": [
        "# результат запроса\n",
        "# Используем метод read_sql_query для выполнения запроса и загрузки результатов в DataFrame\n",
        "df = pd.read_sql_query(query_6_3, connection)\n",
        "df"
      ]
    },
    {
      "cell_type": "markdown",
      "id": "1be1e9c6-37cf-4a5f-bfeb-04cab799dc80",
      "metadata": {
        "id": "1be1e9c6-37cf-4a5f-bfeb-04cab799dc80"
      },
      "source": [
        "4. Проверьте, насколько популярен Python в требованиях работодателей к DS.Для этого вычислите количество вакансий, в которых в качестве ключевого навыка указан Python.\n",
        "\n",
        "** Это можно сделать помощью запроса, аналогичного предыдущему.*"
      ]
    },
    {
      "cell_type": "code",
      "execution_count": 846,
      "id": "0036a355-9ccf-4564-8b01-73d8194297e7",
      "metadata": {
        "id": "0036a355-9ccf-4564-8b01-73d8194297e7"
      },
      "outputs": [],
      "source": [
        "# текст запроса\n",
        "query_6_4 = f'''\n",
        "SELECT COUNT(*) -- подсчет количества вакансий\n",
        "FROM VACANCIES -- из таблицы вакансий\n",
        "WHERE (\n",
        "    name ILIKE ANY (ARRAY['%data scientist%', '%data science%', '%исследователь данных%', '%machine learning%', '%машинн%обучен%']) -- название вакансии содержит любое из этих ключевых слов\n",
        "    OR\n",
        "    (name ILIKE '%ML%' AND name NOT ILIKE '%HTML%') -- название вакансии содержит 'ML', но не 'HTML'\n",
        ") AND (\n",
        "    key_skills ILIKE '%Python%' -- ключевые навыки содержат 'Python'\n",
        ")\n",
        "'''\n"
      ]
    },
    {
      "cell_type": "code",
      "execution_count": 847,
      "id": "1i-5WyucvQ6v",
      "metadata": {
        "id": "1i-5WyucvQ6v"
      },
      "outputs": [
        {
          "name": "stderr",
          "output_type": "stream",
          "text": [
            "C:\\Users\\Администратор\\AppData\\Local\\Temp\\ipykernel_16976\\419362846.py:3: UserWarning: pandas only supports SQLAlchemy connectable (engine/connection) or database string URI or sqlite3 DBAPI2 connection. Other DBAPI2 objects are not tested. Please consider using SQLAlchemy.\n",
            "  df = pd.read_sql_query(query_6_4, connection)\n"
          ]
        },
        {
          "data": {
            "text/html": [
              "<div>\n",
              "<style scoped>\n",
              "    .dataframe tbody tr th:only-of-type {\n",
              "        vertical-align: middle;\n",
              "    }\n",
              "\n",
              "    .dataframe tbody tr th {\n",
              "        vertical-align: top;\n",
              "    }\n",
              "\n",
              "    .dataframe thead th {\n",
              "        text-align: right;\n",
              "    }\n",
              "</style>\n",
              "<table border=\"1\" class=\"dataframe\">\n",
              "  <thead>\n",
              "    <tr style=\"text-align: right;\">\n",
              "      <th></th>\n",
              "      <th>count</th>\n",
              "    </tr>\n",
              "  </thead>\n",
              "  <tbody>\n",
              "    <tr>\n",
              "      <th>0</th>\n",
              "      <td>357</td>\n",
              "    </tr>\n",
              "  </tbody>\n",
              "</table>\n",
              "</div>"
            ],
            "text/plain": [
              "   count\n",
              "0    357"
            ]
          },
          "execution_count": 847,
          "metadata": {},
          "output_type": "execute_result"
        }
      ],
      "source": [
        "# результат запроса\n",
        "# Используем метод read_sql_query для выполнения запроса и загрузки результатов в DataFrame\n",
        "df = pd.read_sql_query(query_6_4, connection)\n",
        "df"
      ]
    },
    {
      "cell_type": "markdown",
      "id": "ec3c8db7-fa21-4a41-a994-1af63742a642",
      "metadata": {
        "id": "ec3c8db7-fa21-4a41-a994-1af63742a642"
      },
      "source": [
        "5. Сколько ключевых навыков в среднем указывают в вакансиях для DS?\n",
        "Ответ округлите до двух знаков после точки-разделителя."
      ]
    },
    {
      "cell_type": "code",
      "execution_count": 848,
      "id": "949132bc-d5b6-4611-8218-0b9a504d74f4",
      "metadata": {
        "id": "949132bc-d5b6-4611-8218-0b9a504d74f4"
      },
      "outputs": [],
      "source": [
        "# текст запроса\n",
        "query_6_5 = f'''\n",
        "SELECT \n",
        "    -- Вычисляем среднее количество ключевых навыков, округленное до двух знаков после запятой\n",
        "    ROUND(AVG(LENGTH(key_skills) - LENGTH(REPLACE(key_skills, CHR(9), '')) + 1), 2)\n",
        "FROM \n",
        "    VACANCIES\n",
        "WHERE \n",
        "    -- Фильтруем вакансии по названиям, соответствующим ролям Data Science и Machine Learning\n",
        "    (name ILIKE '%data scientist%' OR \n",
        "     name ILIKE '%data science%' OR \n",
        "     name ILIKE '%исследователь данных%' OR \n",
        "     -- Исключаем вакансии, связанные с HTML, при поиске по аббревиатуре ML\n",
        "     (name LIKE '%ML%' AND \n",
        "      name NOT LIKE '%HTML%') OR\n",
        "     name ILIKE '%machine learning%' OR \n",
        "     name ILIKE '%машинн%обучен%')\n",
        "'''"
      ]
    },
    {
      "cell_type": "code",
      "execution_count": 849,
      "id": "a3V24Tvmviqk",
      "metadata": {
        "id": "a3V24Tvmviqk"
      },
      "outputs": [
        {
          "name": "stderr",
          "output_type": "stream",
          "text": [
            "C:\\Users\\Администратор\\AppData\\Local\\Temp\\ipykernel_16976\\2705249867.py:3: UserWarning: pandas only supports SQLAlchemy connectable (engine/connection) or database string URI or sqlite3 DBAPI2 connection. Other DBAPI2 objects are not tested. Please consider using SQLAlchemy.\n",
            "  df = pd.read_sql_query(query_6_5, connection)\n"
          ]
        },
        {
          "data": {
            "text/html": [
              "<div>\n",
              "<style scoped>\n",
              "    .dataframe tbody tr th:only-of-type {\n",
              "        vertical-align: middle;\n",
              "    }\n",
              "\n",
              "    .dataframe tbody tr th {\n",
              "        vertical-align: top;\n",
              "    }\n",
              "\n",
              "    .dataframe thead th {\n",
              "        text-align: right;\n",
              "    }\n",
              "</style>\n",
              "<table border=\"1\" class=\"dataframe\">\n",
              "  <thead>\n",
              "    <tr style=\"text-align: right;\">\n",
              "      <th></th>\n",
              "      <th>round</th>\n",
              "    </tr>\n",
              "  </thead>\n",
              "  <tbody>\n",
              "    <tr>\n",
              "      <th>0</th>\n",
              "      <td>6.41</td>\n",
              "    </tr>\n",
              "  </tbody>\n",
              "</table>\n",
              "</div>"
            ],
            "text/plain": [
              "   round\n",
              "0   6.41"
            ]
          },
          "execution_count": 849,
          "metadata": {},
          "output_type": "execute_result"
        }
      ],
      "source": [
        "# результат запроса\n",
        "# Используем метод read_sql_query для выполнения запроса и загрузки результатов в DataFrame\n",
        "df = pd.read_sql_query(query_6_5, connection)\n",
        "df"
      ]
    },
    {
      "cell_type": "markdown",
      "id": "1041c17a-ca8f-4543-a0ca-32778914fb00",
      "metadata": {
        "id": "1041c17a-ca8f-4543-a0ca-32778914fb00"
      },
      "source": [
        "6. Напишите запрос, позволяющий вычислить, какую зарплату для DS в **среднем** указывают для каждого типа требуемого опыта (уникальное значение из поля *experience*). \n",
        "\n",
        "При решении задачи примите во внимание следующее:\n",
        "1. Рассматриваем только вакансии, у которых заполнено хотя бы одно из двух полей с зарплатой.\n",
        "2. Если заполнены оба поля с зарплатой, то считаем зарплату по каждой вакансии как сумму двух полей, делённую на 2. Если заполнено только одно из полей, то его и считаем зарплатой по вакансии.\n",
        "3. Если в расчётах участвует null, в результате он тоже даст null (посмотрите, что возвращает запрос select 1 + null). Чтобы избежать этой ситуацию, мы воспользуемся функцией [coalesce](https://postgrespro.ru/docs/postgresql/9.5/functions-conditional#functions-coalesce-nvl-ifnull), которая заменит null на значение, которое мы передадим. Например, посмотрите, что возвращает запрос `select 1 + coalesce(null, 0)`\n",
        "\n",
        "Выясните, на какую зарплату в среднем может рассчитывать дата-сайентист с опытом работы от 3 до 6 лет. Результат округлите до целого числа. "
      ]
    },
    {
      "cell_type": "code",
      "execution_count": 850,
      "id": "6a743d39-5204-48d3-8271-b9f88e68d40e",
      "metadata": {
        "id": "6a743d39-5204-48d3-8271-b9f88e68d40e"
      },
      "outputs": [],
      "source": [
        "# текст запроса\n",
        "query_6_6 = f'''\n",
        "SELECT \n",
        "    experience AS experience, -- Выбираем поле опыта работы для группировки результатов\n",
        "    ROUND(AVG(COALESCE((salary_from + salary_to) / 2, salary_from, salary_to)), 0) AS average_salary_ds -- Рассчитываем среднюю зарплату\n",
        "FROM \n",
        "    VACANCIES -- Из таблицы вакансий\n",
        "WHERE \n",
        "    (name ILIKE '%data scientist%' OR -- Фильтруем вакансии по названию, связанные с Data Science\n",
        "     name ILIKE '%data science%' OR \n",
        "     name ILIKE '%исследователь данных%' OR \n",
        "     (name LIKE '%ML%' AND -- Включаем вакансии с ML, исключая те, что связаны с HTML\n",
        "      name NOT LIKE '%HTML%') OR\n",
        "     name ILIKE '%machine learning%' OR \n",
        "     name ILIKE '%машинн%обучен%') AND  \n",
        "    (salary_from IS NOT NULL OR salary_to IS NOT NULL) -- Учитываем только вакансии с указанной зарплатой\n",
        "GROUP BY \n",
        "    experience -- Группируем результаты по опыту работы\n",
        "'''"
      ]
    },
    {
      "cell_type": "code",
      "execution_count": 851,
      "id": "aRIJ0mZEwU1_",
      "metadata": {
        "id": "aRIJ0mZEwU1_"
      },
      "outputs": [
        {
          "name": "stderr",
          "output_type": "stream",
          "text": [
            "C:\\Users\\Администратор\\AppData\\Local\\Temp\\ipykernel_16976\\751645955.py:3: UserWarning: pandas only supports SQLAlchemy connectable (engine/connection) or database string URI or sqlite3 DBAPI2 connection. Other DBAPI2 objects are not tested. Please consider using SQLAlchemy.\n",
            "  df_66 = pd.read_sql_query(query_6_6, connection)\n"
          ]
        },
        {
          "data": {
            "text/html": [
              "<div>\n",
              "<style scoped>\n",
              "    .dataframe tbody tr th:only-of-type {\n",
              "        vertical-align: middle;\n",
              "    }\n",
              "\n",
              "    .dataframe tbody tr th {\n",
              "        vertical-align: top;\n",
              "    }\n",
              "\n",
              "    .dataframe thead th {\n",
              "        text-align: right;\n",
              "    }\n",
              "</style>\n",
              "<table border=\"1\" class=\"dataframe\">\n",
              "  <thead>\n",
              "    <tr style=\"text-align: right;\">\n",
              "      <th></th>\n",
              "      <th>experience</th>\n",
              "      <th>average_salary_ds</th>\n",
              "    </tr>\n",
              "  </thead>\n",
              "  <tbody>\n",
              "    <tr>\n",
              "      <th>0</th>\n",
              "      <td>Нет опыта</td>\n",
              "      <td>74643.0</td>\n",
              "    </tr>\n",
              "    <tr>\n",
              "      <th>1</th>\n",
              "      <td>От 1 года до 3 лет</td>\n",
              "      <td>139675.0</td>\n",
              "    </tr>\n",
              "    <tr>\n",
              "      <th>2</th>\n",
              "      <td>От 3 до 6 лет</td>\n",
              "      <td>243115.0</td>\n",
              "    </tr>\n",
              "  </tbody>\n",
              "</table>\n",
              "</div>"
            ],
            "text/plain": [
              "           experience  average_salary_ds\n",
              "0           Нет опыта            74643.0\n",
              "1  От 1 года до 3 лет           139675.0\n",
              "2       От 3 до 6 лет           243115.0"
            ]
          },
          "execution_count": 851,
          "metadata": {},
          "output_type": "execute_result"
        }
      ],
      "source": [
        "# результат запроса\n",
        "# Используем метод read_sql_query для выполнения запроса и загрузки результатов в DataFrame\n",
        "df_66 = pd.read_sql_query(query_6_6, connection)\n",
        "df_66"
      ]
    },
    {
      "cell_type": "code",
      "execution_count": 852,
      "id": "d5118dd7",
      "metadata": {},
      "outputs": [
        {
          "data": {
            "text/plain": [
              "'Ср. зработная плата DataScience с опытом работы от 3 до 6 лет: 243115'"
            ]
          },
          "metadata": {},
          "output_type": "display_data"
        }
      ],
      "source": [
        "salary = int(df_66[df_66['experience'] == 'От 3 до 6 лет']['average_salary_ds'].iloc[0])\n",
        "display(f'Ср. зработная плата DataScience с опытом работы от 3 до 6 лет: {salary}')"
      ]
    },
    {
      "cell_type": "code",
      "execution_count": 853,
      "id": "5a9739e5",
      "metadata": {},
      "outputs": [
        {
          "name": "stderr",
          "output_type": "stream",
          "text": [
            "c:\\ProgramData\\anaconda3\\Lib\\site-packages\\seaborn\\_oldcore.py:1119: FutureWarning: use_inf_as_na option is deprecated and will be removed in a future version. Convert inf values to NaN before operating instead.\n",
            "  with pd.option_context('mode.use_inf_as_na', True):\n",
            "c:\\ProgramData\\anaconda3\\Lib\\site-packages\\seaborn\\_oldcore.py:1119: FutureWarning: use_inf_as_na option is deprecated and will be removed in a future version. Convert inf values to NaN before operating instead.\n",
            "  with pd.option_context('mode.use_inf_as_na', True):\n"
          ]
        },
        {
          "data": {
            "image/png": "[encoded data removed]",
            "text/plain": [
              "<Figure size 640x480 with 1 Axes>"
            ]
          },
          "metadata": {},
          "output_type": "display_data"
        }
      ],
      "source": [
        "import seaborn as sns\n",
        "import matplotlib.pyplot as plt\n",
        "\n",
        "# Создаем линейный график с использованием Seaborn\n",
        "sns.lineplot(data=df_66, x='experience', y='average_salary_ds')\n",
        "\n",
        "# Настраиваем заголовок графика и подписи осей\n",
        "plt.title('График зависимости cр. зработная плата DataScience от опыта работы')\n",
        "plt.xlabel('Опыт работы, лет')\n",
        "plt.ylabel('Ср. заработная плата DataScience, руб')\n",
        "\n",
        "# Отображаем график\n",
        "plt.show()"
      ]
    },
    {
      "cell_type": "markdown",
      "id": "6a7892b4-4113-4746-adce-18aa2844f18e",
      "metadata": {
        "id": "6a7892b4-4113-4746-adce-18aa2844f18e"
      },
      "source": [
        "***"
      ]
    },
    {
      "cell_type": "markdown",
      "id": "3ba2abb7",
      "metadata": {},
      "source": [
        "**С целью дополнительного анализа данных напишем запрос для расчета средней зарплаты по вакансиям, не связанным с Data Science:**"
      ]
    },
    {
      "cell_type": "code",
      "execution_count": 854,
      "id": "3d7af032",
      "metadata": {},
      "outputs": [],
      "source": [
        "query_6_dlc = f'''\n",
        "SELECT \n",
        "    experience, -- выбираем столбец опыта работы из таблицы\n",
        "    ROUND(AVG(COALESCE((salary_from + salary_to) / 2, salary_from, salary_to)), 0) as average_salary_no_DS -- рассчитываем среднюю зарплату, игнорируя NULL значения\n",
        "FROM VACANCIES -- указываем таблицу вакансий для выборки\n",
        "WHERE \t(name NOT ILIKE '%data scientist%' or -- исключаем вакансии, связанные с Data Scientist\n",
        "\t\tname NOT ILIKE '%data science%' or -- исключаем вакансии, связанные с Data Science\n",
        "\t\tname NOT ILIKE '%исследователь данных%' or -- исключаем вакансии, связанные с исследователем данных\n",
        "\t\t(name NOT LIKE '%ML%' and -- исключаем вакансии, связанные с ML, если они не связаны с HTML\n",
        "\t\tname NOT LIKE '%HTML%') or\n",
        "\t\tname NOT ILIKE '%machine learning%' or -- исключаем вакансии, связанные с машинным обучением\n",
        "\t\tname NOT ILIKE '%машинн%обучен%') and  -- исключаем вакансии, связанные с машинным обучением на русском языке\n",
        "        (salary_from IS NOT NULL OR salary_to IS NOT NULL) -- учитываем только вакансии с указанной зарплатой\n",
        "GROUP BY experience -- группируем результаты по опыту работы\n",
        "'''"
      ]
    },
    {
      "cell_type": "code",
      "execution_count": 855,
      "id": "659eeab0",
      "metadata": {},
      "outputs": [
        {
          "name": "stderr",
          "output_type": "stream",
          "text": [
            "C:\\Users\\Администратор\\AppData\\Local\\Temp\\ipykernel_16976\\1632643469.py:3: UserWarning: pandas only supports SQLAlchemy connectable (engine/connection) or database string URI or sqlite3 DBAPI2 connection. Other DBAPI2 objects are not tested. Please consider using SQLAlchemy.\n",
            "  pd.read_sql_query(query_6_dlc, connection), # Выполняем SQL-запрос и преобразуем результат в DataFrame\n"
          ]
        },
        {
          "data": {
            "text/html": [
              "<div>\n",
              "<style scoped>\n",
              "    .dataframe tbody tr th:only-of-type {\n",
              "        vertical-align: middle;\n",
              "    }\n",
              "\n",
              "    .dataframe tbody tr th {\n",
              "        vertical-align: top;\n",
              "    }\n",
              "\n",
              "    .dataframe thead th {\n",
              "        text-align: right;\n",
              "    }\n",
              "</style>\n",
              "<table border=\"1\" class=\"dataframe\">\n",
              "  <thead>\n",
              "    <tr style=\"text-align: right;\">\n",
              "      <th></th>\n",
              "      <th>experience</th>\n",
              "      <th>average_salary_ds</th>\n",
              "      <th>average_salary_no_ds</th>\n",
              "    </tr>\n",
              "  </thead>\n",
              "  <tbody>\n",
              "    <tr>\n",
              "      <th>0</th>\n",
              "      <td>Нет опыта</td>\n",
              "      <td>74643.0</td>\n",
              "      <td>40472.0</td>\n",
              "    </tr>\n",
              "    <tr>\n",
              "      <th>1</th>\n",
              "      <td>От 1 года до 3 лет</td>\n",
              "      <td>139675.0</td>\n",
              "      <td>76541.0</td>\n",
              "    </tr>\n",
              "    <tr>\n",
              "      <th>2</th>\n",
              "      <td>От 3 до 6 лет</td>\n",
              "      <td>243115.0</td>\n",
              "      <td>133211.0</td>\n",
              "    </tr>\n",
              "  </tbody>\n",
              "</table>\n",
              "</div>"
            ],
            "text/plain": [
              "           experience  average_salary_ds  average_salary_no_ds\n",
              "0           Нет опыта            74643.0               40472.0\n",
              "1  От 1 года до 3 лет           139675.0               76541.0\n",
              "2       От 3 до 6 лет           243115.0              133211.0"
            ]
          },
          "execution_count": 855,
          "metadata": {},
          "output_type": "execute_result"
        }
      ],
      "source": [
        "# Объединяем DataFrame df_66 с результатами SQL-запроса\n",
        "df_6_dlc = df_66.merge(\n",
        "    pd.read_sql_query(query_6_dlc, connection), # Выполняем SQL-запрос и преобразуем результат в DataFrame\n",
        "    how='left' # Используем левое объединение, чтобы сохранить все записи из df_66\n",
        ")\n",
        "df_6_dlc # Выводим результат объединения"
      ]
    },
    {
      "cell_type": "markdown",
      "id": "d61ec505",
      "metadata": {},
      "source": [
        "**Выводы по дополнительному заданию:**  \n",
        "\n",
        "**Нет опыта:** Средняя зарплата для начинающих дата-сайентистов составляет 74,643 рубля, в то время как для других специальностей без опыта — 40,472 рубля. Это может быть связано с высоким спросом на специалистов в области анализа данных и машинного обучения, даже без опыта работы, поскольку базовые знания в этих областях уже ценятся на рынке.  \n",
        "**От 1 года до 3 лет:** Дата-сайентисты с опытом от одного до трех лет могут рассчитывать на среднюю зарплату в размере 139,675 рублей, в то время как специалисты других профессий с аналогичным опытом — на 76,541 рубль. Разница в зарплатах может быть обусловлена более сложными навыками и знаниями, которые требуются от дата-сайентистов, а также более высокой стоимостью их труда на рынке.  \n",
        "**От 3 до 6 лет:** С опытом работы от трех до шести лет средняя зарплата дата-сайентистов значительно возрастает до 243,115 рублей, в то время как для других специальностей она составляет 133,211 рублей. Это может указывать на то, что с увеличением опыта растет и ценность специалиста в области анализа данных, поскольку он способен решать более сложные задачи и вносить значительный вклад в развитие компании.  \n",
        "\n",
        "Спрос на дата-сайентистов превышает предложение, что приводит к более высоким зарплатам по сравнению с другими специальностями.  \n",
        "Сложность и специфика работы дата-сайентиста требует более глубоких знаний и навыков, что также увеличивает их стоимость на рынке труда.  \n",
        "Для увеличения своей ценности на рынке труда, начинающим специалистам стоит сосредоточиться на получении практического опыта и развитии навыков работы с данными.  \n",
        "Специалистам с опытом от 3 до 6 лет рекомендуется продолжать обучение и развитие в специализированных областях анализа данных, чтобы увеличить свои шансы на получение более высокой зарплаты.  "
      ]
    },
    {
      "cell_type": "markdown",
      "id": "5e65938a",
      "metadata": {},
      "source": [
        "**Выводы по предметному анализу**:  \n",
        "\n",
        "1. **Общее количество вакансий**, связанных с данными, составляет **1771**, что указывает на высокий спрос на специалистов в этой области.  \n",
        "\n",
        "2. **Для начинающих дата-сайентистов** доступно **51 вакансия**, что может свидетельствовать о более высоком пороге входа в профессию и необходимости иметь определённый уровень знаний и навыков даже для начинающих.  \n",
        "\n",
        "3. **SQL** и **PostgreSQL** являются ключевыми навыками в **229 вакансиях** для дата-сайентистов, подчёркивая важность этих технологий в работе с данными.  \n",
        "\n",
        "4. **Python** остаётся одним из самых востребованных навыков, так как он указан как ключевой навык в **357 вакансиях**. Это подтверждает его популярность и необходимость для специалистов в области Data Science.  \n",
        "\n",
        "5. В среднем в вакансиях для дата-сайентистов указывается **6.41 ключевых навыков**, что может отражать мультидисциплинарный характер профессии и необходимость широкого спектра знаний.\n",
        "\n",
        "6. Средняя зарплата, на которую может рассчитывать дата-сайентист с опытом работы от **3 до 6 лет**, составляет **243 115 рублей**. Это число может служить ориентиром для специалистов при поиске работы и обсуждении условий оплаты труда.\n",
        "\n",
        "Эти выводы могут быть полезны для анализа рынка труда в области Data Science и планирования карьерного роста в этой сфере."
      ]
    },
    {
      "cell_type": "markdown",
      "id": "c0ED6fh7wiBT",
      "metadata": {
        "id": "c0ED6fh7wiBT"
      },
      "source": [
        "# Общий вывод по проекту"
      ]
    },
    {
      "cell_type": "code",
      "execution_count": 856,
      "id": "h9B3BL-wwj18",
      "metadata": {
        "id": "h9B3BL-wwj18"
      },
      "outputs": [],
      "source": [
        "# подведем итог исследования, обобщите выводы"
      ]
    },
    {
      "cell_type": "markdown",
      "id": "19f68014",
      "metadata": {},
      "source": [
        "**Общий вывод по проекту**:  \n",
        "\n",
        "Проект по анализу рынка труда с использованием баз данных PostgreSQL и инструментов анализа данных показал значительный объем информации, который может быть использован для глубокого понимания текущих тенденций и динамики рынка. Использование библиотек pandas и psycopg2 обеспечило эффективный сбор и обработку данных, а также возможность проведения сложных SQL-запросов для извлечения ключевых метрик.  \n",
        "\n",
        "**Итог исследования**:  \n",
        "\n",
        "  1. Предварительный анализ данных выявил основные количественные показатели рынка труда, включая количество вакансий, работодателей, регионов и сфер деятельности. Эти данные могут служить отправной точкой для более детализированного анализа и понимания структуры рынка.  \n",
        "\n",
        "  2. Детальный анализ вакансий показал распределение вакансий по ключевым регионам, зарплатные ожидания и предпочтения в рабочем графике. Особенно заметна тенденция к удаленной работе и полной занятости, что отражает современные тенденции гибкости в трудоустройстве.  \n",
        "\n",
        "  3. Анализ работодателей выявил ведущие компании по количеству вакансий и специфику распределения вакансий по регионам. Отмечается высокий спрос на специалистов в IT и нефтегазовой отрасли, что подчеркивает важность этих секторов для экономики.  \n",
        "\n",
        "  4. Предметный анализ сфокусирован на специалистах в области Data Science, где ключевыми навыками являются SQL, PostgreSQL и Python. Средняя зарплата для дата-сайентистов с опытом работы от 3 до 6 лет составляет 243 115 рублей, что может служить ориентиром для специалистов в этой области.  \n",
        "\n",
        "**Обобщение выводов**:  \n",
        "\n",
        "Исследование подчеркивает важность анализа данных для понимания рынка труда. Результаты могут быть использованы для формирования стратегий поиска работы, разработки политик найма и планирования карьерного роста. Особое внимание следует уделить тенденциям в IT-секторе и возможностям для специалистов без опыта, а также потенциалу удаленной работы и полной занятости. Эти данные могут служить основой для более глубокого анализа и принятия обоснованных решений как соискателями, так и работодателями.  "
      ]
    }
  ],
  "metadata": {
    "colab": {
      "collapsed_sections": [
        "8d62a9f3-f64e-4fe7-bdac-c4dffa16155e"
      ],
      "provenance": []
    },
    "kernelspec": {
      "display_name": "Python 3 (ipykernel)",
      "language": "python",
      "name": "python3"
    },
    "language_info": {
      "codemirror_mode": {
        "name": "ipython",
        "version": 3
      },
      "file_extension": ".py",
      "mimetype": "text/x-python",
      "name": "python",
      "nbconvert_exporter": "python",
      "pygments_lexer": "ipython3",
      "version": "3.11.7"
    }
  },
  "nbformat": 4,
  "nbformat_minor": 5
}
